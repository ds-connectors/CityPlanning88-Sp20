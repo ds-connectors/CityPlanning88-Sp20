{
 "cells": [
  {
   "cell_type": "markdown",
   "metadata": {},
   "source": [
    "### Reading data from a social network survey"
   ]
  },
  {
   "cell_type": "markdown",
   "metadata": {},
   "source": [
    "Let us start by downloading and installing the package"
   ]
  },
  {
   "cell_type": "code",
   "execution_count": 1,
   "metadata": {},
   "outputs": [],
   "source": [
    "import numpy as np\n",
    "%matplotlib inline\n",
    "import matplotlib.pyplot as plt \n",
    "import networkx as nx\n",
    "import pandas as pd"
   ]
  },
  {
   "cell_type": "markdown",
   "metadata": {},
   "source": [
    "Read the nodes and check the different columns via index.values"
   ]
  },
  {
   "cell_type": "code",
   "execution_count": 8,
   "metadata": {},
   "outputs": [],
   "source": [
    "G = nx.DiGraph()\n",
    "fn=pd.read_csv('SchoolNodes.csv',delimiter=' ',index_col=0).transpose()\n",
    "n_attr=len(fn.index.values)\n",
    "attr=fn.index.values"
   ]
  },
  {
   "cell_type": "code",
   "execution_count": 9,
   "metadata": {},
   "outputs": [
    {
     "data": {
      "text/plain": [
       "array(['Label', 'Nodes ', 'Sex', 'Race', 'Grade', 'Scode', 'totalnoms'],\n",
       "      dtype=object)"
      ]
     },
     "execution_count": 9,
     "metadata": {},
     "output_type": "execute_result"
    }
   ],
   "source": [
    "fn.index.values"
   ]
  },
  {
   "cell_type": "code",
   "execution_count": 10,
   "metadata": {},
   "outputs": [],
   "source": [
    "for n in fn.columns:\n",
    "        attr_node=dict(list(zip(attr, fn[n].values)))\n",
    "        #print(attr,\" \",fn[n].values[6])\n",
    "        #print(n)\n",
    "        G.add_node(n,label=fn[n].values[0],nodes=fn[n].values[1],sex=fn[n].values[2],\n",
    "               race=fn[n].values[3],grade=fn[n].values[4],scode=fn[n].values[5],totalnoms=fn[n].values[6])"
   ]
  },
  {
   "cell_type": "code",
   "execution_count": 11,
   "metadata": {},
   "outputs": [
    {
     "data": {
      "text/plain": [
       "10"
      ]
     },
     "execution_count": 11,
     "metadata": {},
     "output_type": "execute_result"
    }
   ],
   "source": [
    "G.nodes[1]['grade']"
   ]
  },
  {
   "cell_type": "code",
   "execution_count": 12,
   "metadata": {},
   "outputs": [
    {
     "name": "stdout",
     "output_type": "stream",
     "text": [
      "1  is in grade 10\n",
      "2  is in grade 12\n",
      "3  is in grade 8\n",
      "4  is in grade 12\n",
      "5  is in grade 12\n",
      "6  is in grade 12\n",
      "7  is in grade 7\n",
      "8  is in grade 11\n",
      "9  is in grade 10\n",
      "10  is in grade 12\n",
      "11  is in grade 9\n",
      "12  is in grade 7\n",
      "13  is in grade 10\n",
      "14  is in grade 9\n",
      "15  is in grade 7\n",
      "16  is in grade 10\n",
      "17  is in grade 12\n",
      "18  is in grade 11\n",
      "19  is in grade 7\n",
      "20  is in grade 12\n",
      "21  is in grade 9\n",
      "22  is in grade 11\n",
      "23  is in grade 12\n",
      "24  is in grade 7\n",
      "25  is in grade 10\n",
      "26  is in grade 8\n",
      "27  is in grade 10\n",
      "28  is in grade 11\n",
      "29  is in grade 12\n",
      "30  is in grade 8\n",
      "31  is in grade 12\n",
      "32  is in grade 8\n",
      "33  is in grade 9\n",
      "34  is in grade 7\n",
      "35  is in grade 10\n",
      "36  is in grade 12\n",
      "37  is in grade 8\n",
      "38  is in grade 10\n",
      "39  is in grade 7\n",
      "40  is in grade 7\n",
      "41  is in grade 8\n",
      "42  is in grade 7\n",
      "43  is in grade 8\n",
      "44  is in grade 9\n",
      "45  is in grade 7\n",
      "46  is in grade 11\n",
      "47  is in grade 12\n",
      "48  is in grade 7\n",
      "49  is in grade 11\n",
      "50  is in grade 7\n",
      "51  is in grade 9\n",
      "52  is in grade 7\n",
      "53  is in grade 9\n",
      "54  is in grade 7\n",
      "55  is in grade 12\n",
      "56  is in grade 11\n",
      "57  is in grade 10\n",
      "58  is in grade 10\n",
      "59  is in grade 8\n",
      "60  is in grade 12\n",
      "61  is in grade 10\n",
      "62  is in grade 12\n",
      "63  is in grade 9\n",
      "64  is in grade 12\n",
      "65  is in grade 10\n",
      "66  is in grade 10\n",
      "67  is in grade 10\n",
      "68  is in grade 9\n",
      "69  is in grade 8\n",
      "70  is in grade 7\n",
      "71  is in grade 10\n",
      "72  is in grade 9\n",
      "73  is in grade 8\n",
      "74  is in grade 9\n",
      "75  is in grade 11\n",
      "76  is in grade 10\n",
      "77  is in grade 12\n",
      "78  is in grade 9\n",
      "79  is in grade 8\n",
      "80  is in grade 12\n",
      "81  is in grade 11\n",
      "82  is in grade 9\n",
      "83  is in grade 7\n",
      "84  is in grade 9\n",
      "85  is in grade 12\n",
      "86  is in grade 7\n",
      "87  is in grade 9\n",
      "88  is in grade 10\n",
      "89  is in grade 7\n",
      "90  is in grade 11\n",
      "91  is in grade 9\n",
      "92  is in grade 7\n",
      "93  is in grade 10\n",
      "94  is in grade 7\n",
      "95  is in grade 10\n",
      "96  is in grade 11\n",
      "97  is in grade 11\n",
      "98  is in grade 11\n",
      "99  is in grade 8\n",
      "100  is in grade 11\n",
      "101  is in grade 7\n",
      "102  is in grade 9\n",
      "103  is in grade 7\n",
      "104  is in grade 10\n",
      "105  is in grade 8\n",
      "106  is in grade 8\n",
      "107  is in grade 8\n",
      "108  is in grade 11\n",
      "109  is in grade 10\n",
      "110  is in grade 12\n",
      "111  is in grade 9\n"
     ]
    }
   ],
   "source": [
    "for node in G.nodes():\n",
    "    print (node,\" is in grade\",G.nodes[node]['grade'])"
   ]
  },
  {
   "cell_type": "code",
   "execution_count": 13,
   "metadata": {},
   "outputs": [],
   "source": [
    "fl=pd.read_csv('SchoolEdges.csv',delimiter=' ')\n",
    "fl.columns = list(map(str.lower, fl.columns))"
   ]
  },
  {
   "cell_type": "code",
   "execution_count": 14,
   "metadata": {},
   "outputs": [
    {
     "data": {
      "text/plain": [
       "Index(['source', 'target', 'type', 'id', 'label', 'weight'], dtype='object')"
      ]
     },
     "execution_count": 14,
     "metadata": {},
     "output_type": "execute_result"
    }
   ],
   "source": [
    "fl.columns"
   ]
  },
  {
   "cell_type": "code",
   "execution_count": 15,
   "metadata": {},
   "outputs": [],
   "source": [
    " for L in fl.index.values:\n",
    "        G.add_edge(fl['source'][L],fl['target'][L],weight=fl['weight'][L])"
   ]
  },
  {
   "cell_type": "code",
   "execution_count": 16,
   "metadata": {},
   "outputs": [
    {
     "data": {
      "text/plain": [
       "InDegreeView({1: 0, 2: 2, 3: 3, 4: 4, 5: 3, 6: 0, 7: 17, 8: 4, 9: 6, 10: 3, 11: 2, 12: 1, 13: 10, 14: 1, 15: 7, 16: 2, 17: 2, 18: 2, 19: 2, 20: 0, 21: 2, 22: 1, 23: 3, 24: 12, 25: 1, 26: 11, 27: 0, 28: 3, 29: 2, 30: 0, 31: 3, 32: 7, 33: 2, 34: 8, 35: 5, 36: 4, 37: 4, 38: 6, 39: 9, 40: 18, 41: 7, 42: 4, 43: 3, 44: 2, 45: 14, 46: 5, 47: 0, 48: 11, 49: 5, 50: 6, 51: 6, 52: 7, 53: 1, 54: 1, 55: 2, 56: 5, 57: 5, 58: 9, 59: 4, 60: 3, 61: 1, 62: 2, 63: 5, 64: 0, 65: 6, 66: 1, 67: 0, 68: 2, 69: 12, 70: 2, 71: 2, 72: 5, 73: 3, 74: 4, 75: 6, 76: 0, 77: 5, 78: 2, 79: 4, 80: 3, 81: 2, 82: 4, 83: 1, 84: 10, 85: 2, 86: 0, 87: 3, 88: 2, 89: 0, 90: 4, 91: 3, 92: 12, 93: 1, 94: 4, 95: 3, 96: 4, 97: 7, 98: 1, 99: 2, 100: 6, 101: 1, 102: 6, 103: 3, 104: 7, 105: 4, 106: 9, 107: 2, 108: 3, 109: 4, 110: 6, 111: 4})"
      ]
     },
     "execution_count": 16,
     "metadata": {},
     "output_type": "execute_result"
    }
   ],
   "source": [
    "G.in_degree()"
   ]
  },
  {
   "cell_type": "code",
   "execution_count": 17,
   "metadata": {},
   "outputs": [
    {
     "name": "stdout",
     "output_type": "stream",
     "text": [
      "Node:  1  degree:  0\n",
      "Node:  64  degree:  0\n",
      "Node:  67  degree:  0\n"
     ]
    }
   ],
   "source": [
    "deg = G.degree()\n",
    "to_keep = []\n",
    "for node in G.nodes():\n",
    "    if deg[node] != 0:\n",
    "        to_keep.append(node)\n",
    "    else:\n",
    "        print(\"Node: \",node,\" degree: \",deg[node])\n",
    "#Create the network only with connected nodes\n",
    "G=G.subgraph(to_keep)"
   ]
  },
  {
   "cell_type": "code",
   "execution_count": 18,
   "metadata": {},
   "outputs": [
    {
     "name": "stdout",
     "output_type": "stream",
     "text": [
      "Nodes:  [2, 3, 4, 5, 6, 7, 8, 9, 10, 11, 12, 13, 14, 15, 16, 17, 18, 19, 20, 21, 22, 23, 24, 25, 26, 27, 28, 29, 30, 31, 32, 33, 34, 35, 36, 37, 38, 39, 40, 41, 42, 43, 44, 45, 46, 47, 48, 49, 50, 51, 52, 53, 54, 55, 56, 57, 58, 59, 60, 61, 62, 63, 65, 66, 68, 69, 70, 71, 72, 73, 74, 75, 76, 77, 78, 79, 80, 81, 82, 83, 84, 85, 86, 87, 88, 89, 90, 91, 92, 93, 94, 95, 96, 97, 98, 99, 100, 101, 102, 103, 104, 105, 106, 107, 108, 109, 110, 111]\n"
     ]
    }
   ],
   "source": [
    "print (\"Nodes: \", G.nodes())"
   ]
  },
  {
   "cell_type": "markdown",
   "metadata": {},
   "source": [
    "#### Write the neighbours of each node "
   ]
  },
  {
   "cell_type": "code",
   "execution_count": 19,
   "metadata": {},
   "outputs": [
    {
     "name": "stdout",
     "output_type": "stream",
     "text": [
      "Neighbors of  2  are :  []\n",
      "Neighbors of  3  are :  [37, 41, 105]\n",
      "Neighbors of  4  are :  [35, 62, 100, 110]\n",
      "Neighbors of  5  are :  [4, 23, 46, 49, 56]\n",
      "Neighbors of  6  are :  [17, 55, 110]\n",
      "Neighbors of  7  are :  [24, 34, 39, 40, 45, 48, 69, 92]\n",
      "Neighbors of  8  are :  []\n",
      "Neighbors of  9  are :  [35, 38, 65, 104]\n",
      "Neighbors of  10  are :  [77]\n",
      "Neighbors of  11  are :  [21, 63, 82, 84, 87, 102, 111]\n",
      "Neighbors of  12  are :  [7, 19, 34, 39, 40, 45, 50, 70]\n",
      "Neighbors of  13  are :  []\n",
      "Neighbors of  14  are :  [2, 17, 19, 25, 59, 68, 81, 103, 107]\n",
      "Neighbors of  15  are :  [7, 24, 34, 39, 40, 45, 48, 92]\n",
      "Neighbors of  16  are :  [57, 65, 95, 96]\n",
      "Neighbors of  17  are :  []\n",
      "Neighbors of  18  are :  [8, 9, 13, 28, 84, 90, 97, 100]\n",
      "Neighbors of  19  are :  [12, 14, 16, 18, 101]\n",
      "Neighbors of  20  are :  [10, 68, 77, 88]\n",
      "Neighbors of  21  are :  []\n",
      "Neighbors of  22  are :  [49, 97, 100]\n",
      "Neighbors of  23  are :  [4, 36]\n",
      "Neighbors of  24  are :  [7, 15, 34, 40, 45, 48, 92, 94]\n",
      "Neighbors of  25  are :  [26]\n",
      "Neighbors of  26  are :  [43]\n",
      "Neighbors of  27  are :  [31, 42, 50, 52, 94]\n",
      "Neighbors of  28  are :  []\n",
      "Neighbors of  29  are :  []\n",
      "Neighbors of  30  are :  [26, 32, 59, 69, 74, 79, 97]\n",
      "Neighbors of  31  are :  [23, 36]\n",
      "Neighbors of  32  are :  [26, 40, 59, 69, 106]\n",
      "Neighbors of  33  are :  [51, 63, 72, 84, 87, 111]\n",
      "Neighbors of  34  are :  [7, 15, 24, 39, 40, 45, 48, 92]\n",
      "Neighbors of  35  are :  [9, 38, 57, 58, 109]\n",
      "Neighbors of  36  are :  [23, 31, 80, 108]\n",
      "Neighbors of  37  are :  [3, 41, 105]\n",
      "Neighbors of  38  are :  [4, 9, 13, 49, 51, 75, 102, 104]\n",
      "Neighbors of  39  are :  [7, 15, 24, 34, 40, 45, 48, 92]\n",
      "Neighbors of  40  are :  [7, 24, 45, 48, 50, 69, 92]\n",
      "Neighbors of  41  are :  [3, 26, 37, 59, 69, 99, 105]\n",
      "Neighbors of  42  are :  []\n",
      "Neighbors of  43  are :  [7, 26, 40, 45, 69, 74, 106]\n",
      "Neighbors of  44  are :  []\n",
      "Neighbors of  45  are :  [7, 15, 24, 34, 39, 40, 48, 92]\n",
      "Neighbors of  46  are :  [5, 13, 38, 49, 55, 71, 75, 77, 97, 108]\n",
      "Neighbors of  47  are :  [10, 16, 31, 85]\n",
      "Neighbors of  48  are :  [7, 24, 39, 40, 45, 92]\n",
      "Neighbors of  49  are :  [38, 46, 71, 100]\n",
      "Neighbors of  50  are :  [7, 34, 40, 45, 48, 52, 94]\n",
      "Neighbors of  51  are :  [11, 13, 43, 65, 82, 84, 106]\n",
      "Neighbors of  52  are :  [7, 24, 34, 40, 45, 70, 91, 94]\n",
      "Neighbors of  53  are :  [13, 35, 51, 56, 58, 110]\n",
      "Neighbors of  54  are :  [75]\n",
      "Neighbors of  55  are :  [10, 46, 75, 95]\n",
      "Neighbors of  56  are :  [2, 5, 13, 28, 44, 58, 75, 84, 91]\n",
      "Neighbors of  57  are :  [58, 96]\n",
      "Neighbors of  58  are :  [26, 35, 56, 61, 109]\n",
      "Neighbors of  59  are :  [26, 32, 41, 69, 79, 103]\n",
      "Neighbors of  60  are :  []\n",
      "Neighbors of  61  are :  [26, 58]\n",
      "Neighbors of  62  are :  [29, 97, 104, 110]\n",
      "Neighbors of  63  are :  [11, 33, 51, 72, 82, 84, 87, 102, 111]\n",
      "Neighbors of  65  are :  [8, 46, 84, 95, 104]\n",
      "Neighbors of  66  are :  [9, 13, 38, 57, 65, 78, 88, 96, 104, 109]\n",
      "Neighbors of  68  are :  [21]\n",
      "Neighbors of  69  are :  [9, 32, 40, 72, 77, 79, 100, 106]\n",
      "Neighbors of  70  are :  [7, 15, 39, 40, 45, 52, 54, 92]\n",
      "Neighbors of  71  are :  []\n",
      "Neighbors of  72  are :  []\n",
      "Neighbors of  73  are :  []\n",
      "Neighbors of  74  are :  [43, 63]\n",
      "Neighbors of  75  are :  [4, 13, 28, 97, 100, 104, 110]\n",
      "Neighbors of  76  are :  [36, 46, 58, 65, 81, 90]\n",
      "Neighbors of  77  are :  []\n",
      "Neighbors of  78  are :  [51, 53, 56, 57, 58, 96, 108]\n",
      "Neighbors of  79  are :  [8, 26, 32, 69, 106]\n",
      "Neighbors of  80  are :  [36, 60]\n",
      "Neighbors of  81  are :  [8, 18, 49, 60, 77, 90]\n",
      "Neighbors of  82  are :  []\n",
      "Neighbors of  83  are :  [44, 58, 73]\n",
      "Neighbors of  84  are :  [63, 72, 102]\n",
      "Neighbors of  85  are :  []\n",
      "Neighbors of  86  are :  [7, 39, 40, 45, 48, 69, 92]\n",
      "Neighbors of  87  are :  [33, 72, 84, 102]\n",
      "Neighbors of  88  are :  [9, 13, 38, 93, 109]\n",
      "Neighbors of  89  are :  [7, 24, 40, 50, 52, 91, 92]\n",
      "Neighbors of  90  are :  []\n",
      "Neighbors of  91  are :  [5, 48, 52, 56, 63, 73, 80, 84, 102]\n",
      "Neighbors of  92  are :  [7, 15, 24, 40, 45, 48]\n",
      "Neighbors of  93  are :  []\n",
      "Neighbors of  94  are :  [24, 42, 50, 52]\n",
      "Neighbors of  95  are :  [65, 82, 90, 104]\n",
      "Neighbors of  96  are :  [57, 66, 78]\n",
      "Neighbors of  97  are :  [22, 110]\n",
      "Neighbors of  98  are :  [42]\n",
      "Neighbors of  99  are :  [32, 37, 41, 69, 79, 105, 106, 107]\n",
      "Neighbors of  100  are :  []\n",
      "Neighbors of  101  are :  [7, 15, 39, 50, 83, 92]\n",
      "Neighbors of  102  are :  []\n",
      "Neighbors of  103  are :  [42, 85, 98]\n",
      "Neighbors of  104  are :  [75]\n",
      "Neighbors of  105  are :  [3, 26, 32, 37, 41, 99, 103, 106]\n",
      "Neighbors of  106  are :  [7, 13, 24, 40, 69, 74, 111]\n",
      "Neighbors of  107  are :  [32, 41, 52, 69, 73, 74, 106]\n",
      "Neighbors of  108  are :  []\n",
      "Neighbors of  109  are :  [26, 35, 41, 51, 58, 84, 106]\n",
      "Neighbors of  110  are :  [29, 60, 62, 80, 97]\n",
      "Neighbors of  111  are :  []\n"
     ]
    }
   ],
   "source": [
    "for node in G.nodes():\n",
    "    print (\"Neighbors of \", node, \" are : \", list(G.neighbors(node)))"
   ]
  },
  {
   "cell_type": "code",
   "execution_count": null,
   "metadata": {},
   "outputs": [],
   "source": []
  },
  {
   "cell_type": "code",
   "execution_count": null,
   "metadata": {},
   "outputs": [],
   "source": []
  },
  {
   "cell_type": "code",
   "execution_count": null,
   "metadata": {},
   "outputs": [],
   "source": []
  },
  {
   "cell_type": "code",
   "execution_count": null,
   "metadata": {},
   "outputs": [],
   "source": []
  }
 ],
 "metadata": {
  "anaconda-cloud": {},
  "kernelspec": {
   "display_name": "Python 3",
   "language": "python",
   "name": "python3"
  },
  "language_info": {
   "codemirror_mode": {
    "name": "ipython",
    "version": 3
   },
   "file_extension": ".py",
   "mimetype": "text/x-python",
   "name": "python",
   "nbconvert_exporter": "python",
   "pygments_lexer": "ipython3",
   "version": "3.6.5"
  },
  "varInspector": {
   "cols": {
    "lenName": 16,
    "lenType": 16,
    "lenVar": 40
   },
   "kernels_config": {
    "python": {
     "delete_cmd_postfix": "",
     "delete_cmd_prefix": "del ",
     "library": "var_list.py",
     "varRefreshCmd": "print(var_dic_list())"
    },
    "r": {
     "delete_cmd_postfix": ") ",
     "delete_cmd_prefix": "rm(",
     "library": "var_list.r",
     "varRefreshCmd": "cat(var_dic_list()) "
    }
   },
   "types_to_exclude": [
    "module",
    "function",
    "builtin_function_or_method",
    "instance",
    "_Feature"
   ],
   "window_display": false
  }
 },
 "nbformat": 4,
 "nbformat_minor": 1
}
