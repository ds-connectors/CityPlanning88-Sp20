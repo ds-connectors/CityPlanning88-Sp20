{
 "cells": [
  {
   "cell_type": "markdown",
   "metadata": {},
   "source": [
    "## Four-Step Model in Python by David Bailey (First Part)"
   ]
  },
  {
   "cell_type": "markdown",
   "metadata": {},
   "source": [
    " source: https://davidabailey.com/articles/Creating-a-Four-step-Transportation-Model-in-Python \n",
    " This codes reads Travels produced by cars from the Census Web page and reads Employment from the \n",
    " Bureau of Labor statistics, generates Trip Production Trip Attraction per County and a Trip\n",
    " Distribution Model, we show today the first part."
   ]
  },
  {
   "cell_type": "code",
   "execution_count": 27,
   "metadata": {},
   "outputs": [
    {
     "name": "stdout",
     "output_type": "stream",
     "text": [
      "Requirement already satisfied: haversine in /Users/marta/opt/miniconda3/lib/python3.7/site-packages (2.2.0)\r\n"
     ]
    }
   ],
   "source": [
    "!pip install haversine"
   ]
  },
  {
   "cell_type": "code",
   "execution_count": 28,
   "metadata": {},
   "outputs": [
    {
     "name": "stdout",
     "output_type": "stream",
     "text": [
      "Requirement already satisfied: ipfn in /Users/marta/opt/miniconda3/lib/python3.7/site-packages (1.3.0)\r\n",
      "Requirement already satisfied: pandas in /Users/marta/opt/miniconda3/lib/python3.7/site-packages (from ipfn) (1.0.3)\r\n",
      "Requirement already satisfied: numpy in /Users/marta/opt/miniconda3/lib/python3.7/site-packages (from ipfn) (1.18.1)\r\n",
      "Requirement already satisfied: python-dateutil>=2.6.1 in /Users/marta/opt/miniconda3/lib/python3.7/site-packages (from pandas->ipfn) (2.8.0)\r\n",
      "Requirement already satisfied: pytz>=2017.2 in /Users/marta/opt/miniconda3/lib/python3.7/site-packages (from pandas->ipfn) (2019.3)\r\n",
      "Requirement already satisfied: six>=1.5 in /Users/marta/opt/miniconda3/lib/python3.7/site-packages (from python-dateutil>=2.6.1->pandas->ipfn) (1.14.0)\r\n"
     ]
    }
   ],
   "source": [
    "!pip install ipfn"
   ]
  },
  {
   "cell_type": "code",
   "execution_count": 29,
   "metadata": {},
   "outputs": [],
   "source": [
    "import requests\n",
    "import pandas\n",
    "import geopandas\n",
    "import json\n",
    "import math\n",
    "from haversine import haversine\n",
    "import ipfn\n",
    "import networkx\n",
    "from matplotlib import pyplot\n",
    "from matplotlib import patheffects\n",
    "%matplotlib inline  "
   ]
  },
  {
   "cell_type": "code",
   "execution_count": 30,
   "metadata": {},
   "outputs": [],
   "source": [
    "#conda install -c conda-forge libspatialindex"
   ]
  },
  {
   "cell_type": "code",
   "execution_count": 31,
   "metadata": {},
   "outputs": [
    {
     "name": "stdout",
     "output_type": "stream",
     "text": [
      "The Python version is 3.7.7\n"
     ]
    }
   ],
   "source": [
    "import sys\n",
    "print(\"The Python version is %s.%s.%s\" % sys.version_info[:3])"
   ]
  },
  {
   "cell_type": "markdown",
   "metadata": {},
   "source": [
    "## Check:\n",
    "https://conda.io/docs/user-guide/tasks/manage-environments.html#activate-env\n",
    "\n",
    "http://geopandas.org/install.html"
   ]
  },
  {
   "cell_type": "code",
   "execution_count": 32,
   "metadata": {},
   "outputs": [],
   "source": [
    "url = 'https://tigerweb.geo.census.gov/arcgis/rest/services/TIGERweb/State_County/MapServer/37/query?where=state%3D06&f=geojson'\n",
    "r = requests.get(url)\n",
    "zones = geopandas.GeoDataFrame.from_features(r.json()['features'])"
   ]
  },
  {
   "cell_type": "code",
   "execution_count": 33,
   "metadata": {},
   "outputs": [],
   "source": [
    "centroidFunction = lambda row: (row['geometry'].centroid.y, row['geometry'].centroid.x)\n",
    "zones['centroid'] = zones.apply(centroidFunction, axis=1)"
   ]
  },
  {
   "cell_type": "code",
   "execution_count": 34,
   "metadata": {},
   "outputs": [
    {
     "data": {
      "image/png": "[encoded data removed]",
      "text/plain": [
       "<Figure size 432x288 with 1 Axes>"
      ]
     },
     "metadata": {
      "needs_background": "light"
     },
     "output_type": "display_data"
    }
   ],
   "source": [
    "zones.plot()\n",
    "pyplot.show()"
   ]
  },
  {
   "cell_type": "code",
   "execution_count": 35,
   "metadata": {},
   "outputs": [],
   "source": [
    "gdf = geopandas.GeoDataFrame"
   ]
  },
  {
   "cell_type": "code",
   "execution_count": 36,
   "metadata": {},
   "outputs": [
    {
     "data": {
      "text/plain": [
       "geometry    geometry\n",
       "NAME          object\n",
       "centroid      object\n",
       "dtype: object"
      ]
     },
     "execution_count": 36,
     "metadata": {},
     "output_type": "execute_result"
    }
   ],
   "source": [
    "zones.dtypes"
   ]
  },
  {
   "cell_type": "markdown",
   "metadata": {},
   "source": [
    "Query example from the US Census API:\n",
    "https://www.census.gov/data/developers/guidance/api-user-guide/query-examples.html"
   ]
  },
  {
   "cell_type": "code",
   "execution_count": 37,
   "metadata": {},
   "outputs": [],
   "source": [
    "url ='https://api.census.gov/data/2015/acs/acs5?get=NAME,B08015_001E&for=county&in=state:06&key=''\n",
    "r = requests.get(url) "
   ]
  },
  {
   "cell_type": "code",
   "execution_count": 38,
   "metadata": {},
   "outputs": [
    {
     "data": {
      "text/plain": [
       "[['NAME', 'B08015_001E', 'state', 'county'],\n",
       " ['Alameda County, California', '488780', '06', '001'],\n",
       " ['Alpine County, California', '270', '06', '003'],\n",
       " ['Amador County, California', '9975', '06', '005'],\n",
       " ['Butte County, California', '69100', '06', '007'],\n",
       " ['Calaveras County, California', '13125', '06', '009'],\n",
       " ['Colusa County, California', '7125', '06', '011'],\n",
       " ['Contra Costa County, California', '367415', '06', '013'],\n",
       " ['Del Norte County, California', '6585', '06', '015'],\n",
       " ['El Dorado County, California', '62135', '06', '017'],\n",
       " ['Fresno County, California', '296510', '06', '019'],\n",
       " ['Glenn County, California', '8230', '06', '021'],\n",
       " ['Humboldt County, California', '43290', '06', '023'],\n",
       " ['Imperial County, California', '48310', '06', '025'],\n",
       " ['Inyo County, California', '5935', '06', '027'],\n",
       " ['Kern County, California', '267185', '06', '029'],\n",
       " ['Kings County, California', '44005', '06', '031'],\n",
       " ['Lake County, California', '17170', '06', '033'],\n",
       " ['Lassen County, California', '7170', '06', '035'],\n",
       " ['Los Angeles County, California', '3499675', '06', '037'],\n",
       " ['Madera County, California', '36395', '06', '039'],\n",
       " ['Marin County, California', '87015', '06', '041'],\n",
       " ['Mariposa County, California', '5125', '06', '043'],\n",
       " ['Mendocino County, California', '28075', '06', '045'],\n",
       " ['Merced County, California', '76680', '06', '047'],\n",
       " ['Modoc County, California', '2250', '06', '049'],\n",
       " ['Mono County, California', '3530', '06', '051'],\n",
       " ['Monterey County, California', '135550', '06', '053'],\n",
       " ['Napa County, California', '54325', '06', '055'],\n",
       " ['Nevada County, California', '31825', '06', '057'],\n",
       " ['Orange County, California', '1224110', '06', '059'],\n",
       " ['Placer County, California', '132450', '06', '061'],\n",
       " ['Plumas County, California', '5650', '06', '063'],\n",
       " ['Riverside County, California', '744535', '06', '065'],\n",
       " ['Sacramento County, California', '501185', '06', '067'],\n",
       " ['San Benito County, California', '21420', '06', '069'],\n",
       " ['San Bernardino County, California', '683775', '06', '071'],\n",
       " ['San Diego County, California', '1207325', '06', '073'],\n",
       " ['San Francisco County, California', '183045', '06', '075'],\n",
       " ['San Joaquin County, California', '225340', '06', '077'],\n",
       " ['San Luis Obispo County, California', '96730', '06', '079'],\n",
       " ['San Mateo County, California', '282360', '06', '081'],\n",
       " ['Santa Barbara County, California', '147490', '06', '083'],\n",
       " ['Santa Clara County, California', '720970', '06', '085'],\n",
       " ['Santa Cruz County, California', '94950', '06', '087'],\n",
       " ['Shasta County, California', '57850', '06', '089'],\n",
       " ['Sierra County, California', '795', '06', '091'],\n",
       " ['Siskiyou County, California', '12230', '06', '093'],\n",
       " ['Solano County, California', '152255', '06', '095'],\n",
       " ['Sonoma County, California', '188980', '06', '097'],\n",
       " ['Stanislaus County, California', '172445', '06', '099'],\n",
       " ['Sutter County, California', '30280', '06', '101'],\n",
       " ['Tehama County, California', '18705', '06', '103'],\n",
       " ['Trinity County, California', '3325', '06', '105'],\n",
       " ['Tulare County, California', '136800', '06', '107'],\n",
       " ['Tuolumne County, California', '15600', '06', '109'],\n",
       " ['Ventura County, California', '321945', '06', '111'],\n",
       " ['Yolo County, California', '65060', '06', '113'],\n",
       " ['Yuba County, California', '21565', '06', '115']]"
      ]
     },
     "execution_count": 38,
     "metadata": {},
     "output_type": "execute_result"
    }
   ],
   "source": [
    "r.json()"
   ]
  },
  {
   "cell_type": "code",
   "execution_count": 41,
   "metadata": {},
   "outputs": [],
   "source": [
    "#Production = pandas.DataFrame(r.json()[1:], columns = r.json()[0])\n",
    "Production = pandas.DataFrame(r.json()[1:], columns = r.json()[0], dtype='int')\n",
    "nameSplit = lambda x: x.split(',')[0]\n",
    "Production['NAME'] = Production['NAME'].apply(nameSplit)\n",
    "zones = pandas.merge(zones, Production)\n",
    "zones['Production'] = zones['B08015_001E']"
   ]
  },
  {
   "cell_type": "code",
   "execution_count": 65,
   "metadata": {},
   "outputs": [
    {
     "data": {
      "text/html": [
       "<div>\n",
       "<style scoped>\n",
       "    .dataframe tbody tr th:only-of-type {\n",
       "        vertical-align: middle;\n",
       "    }\n",
       "\n",
       "    .dataframe tbody tr th {\n",
       "        vertical-align: top;\n",
       "    }\n",
       "\n",
       "    .dataframe thead th {\n",
       "        text-align: right;\n",
       "    }\n",
       "</style>\n",
       "<table border=\"1\" class=\"dataframe\">\n",
       "  <thead>\n",
       "    <tr style=\"text-align: right;\">\n",
       "      <th></th>\n",
       "      <th>geometry</th>\n",
       "      <th>NAME</th>\n",
       "      <th>centroid</th>\n",
       "      <th>B08015_001E</th>\n",
       "      <th>state</th>\n",
       "      <th>county</th>\n",
       "      <th>Production</th>\n",
       "      <th>Attraction</th>\n",
       "    </tr>\n",
       "  </thead>\n",
       "  <tbody>\n",
       "    <tr>\n",
       "      <th>0</th>\n",
       "      <td>POLYGON ((-120.07333 38.70109, -120.07332 38.7...</td>\n",
       "      <td>Alpine County</td>\n",
       "      <td>(38.59725063317207, -119.82065303034453)</td>\n",
       "      <td>270</td>\n",
       "      <td>06</td>\n",
       "      <td>003</td>\n",
       "      <td>270</td>\n",
       "      <td>None</td>\n",
       "    </tr>\n",
       "    <tr>\n",
       "      <th>1</th>\n",
       "      <td>POLYGON ((-121.11866 38.71707, -121.11176 38.7...</td>\n",
       "      <td>El Dorado County</td>\n",
       "      <td>(38.778737042440646, -120.52465107178368)</td>\n",
       "      <td>62135</td>\n",
       "      <td>06</td>\n",
       "      <td>017</td>\n",
       "      <td>62135</td>\n",
       "      <td>None</td>\n",
       "    </tr>\n",
       "    <tr>\n",
       "      <th>2</th>\n",
       "      <td>POLYGON ((-121.59768 39.12779, -121.59773 39.1...</td>\n",
       "      <td>Yuba County</td>\n",
       "      <td>(39.26900765367862, -121.3512627386866)</td>\n",
       "      <td>21565</td>\n",
       "      <td>06</td>\n",
       "      <td>115</td>\n",
       "      <td>21565</td>\n",
       "      <td>None</td>\n",
       "    </tr>\n",
       "    <tr>\n",
       "      <th>3</th>\n",
       "      <td>POLYGON ((-122.16494 38.64246, -122.16502 38.6...</td>\n",
       "      <td>Yolo County</td>\n",
       "      <td>(38.68666040139593, -121.90161702501356)</td>\n",
       "      <td>65060</td>\n",
       "      <td>06</td>\n",
       "      <td>113</td>\n",
       "      <td>65060</td>\n",
       "      <td>None</td>\n",
       "    </tr>\n",
       "    <tr>\n",
       "      <th>4</th>\n",
       "      <td>POLYGON ((-121.48300 36.76505, -121.48295 36.7...</td>\n",
       "      <td>San Benito County</td>\n",
       "      <td>(36.60570589668711, -121.07499552455516)</td>\n",
       "      <td>21420</td>\n",
       "      <td>06</td>\n",
       "      <td>069</td>\n",
       "      <td>21420</td>\n",
       "      <td>None</td>\n",
       "    </tr>\n",
       "  </tbody>\n",
       "</table>\n",
       "</div>"
      ],
      "text/plain": [
       "                                            geometry               NAME  \\\n",
       "0  POLYGON ((-120.07333 38.70109, -120.07332 38.7...      Alpine County   \n",
       "1  POLYGON ((-121.11866 38.71707, -121.11176 38.7...   El Dorado County   \n",
       "2  POLYGON ((-121.59768 39.12779, -121.59773 39.1...        Yuba County   \n",
       "3  POLYGON ((-122.16494 38.64246, -122.16502 38.6...        Yolo County   \n",
       "4  POLYGON ((-121.48300 36.76505, -121.48295 36.7...  San Benito County   \n",
       "\n",
       "                                    centroid B08015_001E state county  \\\n",
       "0   (38.59725063317207, -119.82065303034453)         270    06    003   \n",
       "1  (38.778737042440646, -120.52465107178368)       62135    06    017   \n",
       "2    (39.26900765367862, -121.3512627386866)       21565    06    115   \n",
       "3   (38.68666040139593, -121.90161702501356)       65060    06    113   \n",
       "4   (36.60570589668711, -121.07499552455516)       21420    06    069   \n",
       "\n",
       "  Production Attraction  \n",
       "0        270       None  \n",
       "1      62135       None  \n",
       "2      21565       None  \n",
       "3      65060       None  \n",
       "4      21420       None  "
      ]
     },
     "execution_count": 65,
     "metadata": {},
     "output_type": "execute_result"
    }
   ],
   "source": [
    "zones.head()"
   ]
  },
  {
   "cell_type": "code",
   "execution_count": 66,
   "metadata": {},
   "outputs": [
    {
     "data": {
      "text/html": [
       "<div>\n",
       "<style scoped>\n",
       "    .dataframe tbody tr th:only-of-type {\n",
       "        vertical-align: middle;\n",
       "    }\n",
       "\n",
       "    .dataframe tbody tr th {\n",
       "        vertical-align: top;\n",
       "    }\n",
       "\n",
       "    .dataframe thead th {\n",
       "        text-align: right;\n",
       "    }\n",
       "</style>\n",
       "<table border=\"1\" class=\"dataframe\">\n",
       "  <thead>\n",
       "    <tr style=\"text-align: right;\">\n",
       "      <th></th>\n",
       "      <th>geometry</th>\n",
       "      <th>NAME</th>\n",
       "      <th>centroid</th>\n",
       "      <th>B08015_001E</th>\n",
       "      <th>state</th>\n",
       "      <th>county</th>\n",
       "      <th>Production</th>\n",
       "      <th>Attraction</th>\n",
       "    </tr>\n",
       "  </thead>\n",
       "  <tbody>\n",
       "    <tr>\n",
       "      <th>0</th>\n",
       "      <td>POLYGON ((-120.07333 38.70109, -120.07332 38.7...</td>\n",
       "      <td>Alpine County</td>\n",
       "      <td>(38.59725063317207, -119.82065303034453)</td>\n",
       "      <td>270</td>\n",
       "      <td>06</td>\n",
       "      <td>003</td>\n",
       "      <td>270</td>\n",
       "      <td>None</td>\n",
       "    </tr>\n",
       "    <tr>\n",
       "      <th>1</th>\n",
       "      <td>POLYGON ((-121.11866 38.71707, -121.11176 38.7...</td>\n",
       "      <td>El Dorado County</td>\n",
       "      <td>(38.778737042440646, -120.52465107178368)</td>\n",
       "      <td>62135</td>\n",
       "      <td>06</td>\n",
       "      <td>017</td>\n",
       "      <td>62135</td>\n",
       "      <td>None</td>\n",
       "    </tr>\n",
       "    <tr>\n",
       "      <th>2</th>\n",
       "      <td>POLYGON ((-121.59768 39.12779, -121.59773 39.1...</td>\n",
       "      <td>Yuba County</td>\n",
       "      <td>(39.26900765367862, -121.3512627386866)</td>\n",
       "      <td>21565</td>\n",
       "      <td>06</td>\n",
       "      <td>115</td>\n",
       "      <td>21565</td>\n",
       "      <td>None</td>\n",
       "    </tr>\n",
       "    <tr>\n",
       "      <th>3</th>\n",
       "      <td>POLYGON ((-122.16494 38.64246, -122.16502 38.6...</td>\n",
       "      <td>Yolo County</td>\n",
       "      <td>(38.68666040139593, -121.90161702501356)</td>\n",
       "      <td>65060</td>\n",
       "      <td>06</td>\n",
       "      <td>113</td>\n",
       "      <td>65060</td>\n",
       "      <td>None</td>\n",
       "    </tr>\n",
       "    <tr>\n",
       "      <th>4</th>\n",
       "      <td>POLYGON ((-121.48300 36.76505, -121.48295 36.7...</td>\n",
       "      <td>San Benito County</td>\n",
       "      <td>(36.60570589668711, -121.07499552455516)</td>\n",
       "      <td>21420</td>\n",
       "      <td>06</td>\n",
       "      <td>069</td>\n",
       "      <td>21420</td>\n",
       "      <td>None</td>\n",
       "    </tr>\n",
       "    <tr>\n",
       "      <th>5</th>\n",
       "      <td>POLYGON ((-120.42219 36.84014, -120.42238 36.8...</td>\n",
       "      <td>Fresno County</td>\n",
       "      <td>(36.75818012643308, -119.64932262926772)</td>\n",
       "      <td>296510</td>\n",
       "      <td>06</td>\n",
       "      <td>019</td>\n",
       "      <td>296510</td>\n",
       "      <td>None</td>\n",
       "    </tr>\n",
       "    <tr>\n",
       "      <th>6</th>\n",
       "      <td>POLYGON ((-124.31611 41.72839, -124.31370 41.7...</td>\n",
       "      <td>Del Norte County</td>\n",
       "      <td>(41.74494236554737, -123.95780135595136)</td>\n",
       "      <td>6585</td>\n",
       "      <td>06</td>\n",
       "      <td>015</td>\n",
       "      <td>6585</td>\n",
       "      <td>None</td>\n",
       "    </tr>\n",
       "    <tr>\n",
       "      <th>7</th>\n",
       "      <td>POLYGON ((-124.28140 40.79915, -124.28658 40.7...</td>\n",
       "      <td>Humboldt County</td>\n",
       "      <td>(40.70500907826406, -123.91581944402172)</td>\n",
       "      <td>43290</td>\n",
       "      <td>06</td>\n",
       "      <td>023</td>\n",
       "      <td>43290</td>\n",
       "      <td>None</td>\n",
       "    </tr>\n",
       "    <tr>\n",
       "      <th>8</th>\n",
       "      <td>POLYGON ((-119.91366 35.43926, -119.91230 35.4...</td>\n",
       "      <td>Kern County</td>\n",
       "      <td>(35.34285593411939, -118.72990396493257)</td>\n",
       "      <td>267185</td>\n",
       "      <td>06</td>\n",
       "      <td>029</td>\n",
       "      <td>267185</td>\n",
       "      <td>None</td>\n",
       "    </tr>\n",
       "    <tr>\n",
       "      <th>9</th>\n",
       "      <td>POLYGON ((-121.20789 38.24882, -121.20805 38.2...</td>\n",
       "      <td>San Joaquin County</td>\n",
       "      <td>(37.93474703225379, -121.2714032752314)</td>\n",
       "      <td>225340</td>\n",
       "      <td>06</td>\n",
       "      <td>077</td>\n",
       "      <td>225340</td>\n",
       "      <td>None</td>\n",
       "    </tr>\n",
       "    <tr>\n",
       "      <th>10</th>\n",
       "      <td>POLYGON ((-117.67244 33.87026, -117.67225 33.8...</td>\n",
       "      <td>Riverside County</td>\n",
       "      <td>(33.7436801046772, -115.99384631142885)</td>\n",
       "      <td>744535</td>\n",
       "      <td>06</td>\n",
       "      <td>065</td>\n",
       "      <td>744535</td>\n",
       "      <td>None</td>\n",
       "    </tr>\n",
       "    <tr>\n",
       "      <th>11</th>\n",
       "      <td>POLYGON ((-122.37148 40.37261, -122.37261 40.3...</td>\n",
       "      <td>Tehama County</td>\n",
       "      <td>(40.12573618337585, -122.23388485176037)</td>\n",
       "      <td>18705</td>\n",
       "      <td>06</td>\n",
       "      <td>103</td>\n",
       "      <td>18705</td>\n",
       "      <td>None</td>\n",
       "    </tr>\n",
       "    <tr>\n",
       "      <th>12</th>\n",
       "      <td>POLYGON ((-120.10638 37.16715, -120.10654 37.1...</td>\n",
       "      <td>Madera County</td>\n",
       "      <td>(37.21804405553327, -119.76264450698204)</td>\n",
       "      <td>36395</td>\n",
       "      <td>06</td>\n",
       "      <td>039</td>\n",
       "      <td>36395</td>\n",
       "      <td>None</td>\n",
       "    </tr>\n",
       "    <tr>\n",
       "      <th>13</th>\n",
       "      <td>POLYGON ((-122.04412 37.20050, -122.04401 37.2...</td>\n",
       "      <td>Santa Clara County</td>\n",
       "      <td>(37.23248418248963, -121.69627914808197)</td>\n",
       "      <td>720970</td>\n",
       "      <td>06</td>\n",
       "      <td>085</td>\n",
       "      <td>720970</td>\n",
       "      <td>None</td>\n",
       "    </tr>\n",
       "    <tr>\n",
       "      <th>14</th>\n",
       "      <td>POLYGON ((-121.44890 41.47281, -121.44884 41.4...</td>\n",
       "      <td>Modoc County</td>\n",
       "      <td>(41.58983356894706, -120.72502895414779)</td>\n",
       "      <td>2250</td>\n",
       "      <td>06</td>\n",
       "      <td>049</td>\n",
       "      <td>2250</td>\n",
       "      <td>None</td>\n",
       "    </tr>\n",
       "    <tr>\n",
       "      <th>15</th>\n",
       "      <td>POLYGON ((-121.85650 39.53358, -121.85649 39.5...</td>\n",
       "      <td>Butte County</td>\n",
       "      <td>(39.66692936289998, -121.60067173520562)</td>\n",
       "      <td>69100</td>\n",
       "      <td>06</td>\n",
       "      <td>007</td>\n",
       "      <td>69100</td>\n",
       "      <td>None</td>\n",
       "    </tr>\n",
       "    <tr>\n",
       "      <th>16</th>\n",
       "      <td>POLYGON ((-118.80373 35.79035, -118.80164 35.7...</td>\n",
       "      <td>Tulare County</td>\n",
       "      <td>(36.220156659044704, -118.80047248001355)</td>\n",
       "      <td>136800</td>\n",
       "      <td>06</td>\n",
       "      <td>107</td>\n",
       "      <td>136800</td>\n",
       "      <td>None</td>\n",
       "    </tr>\n",
       "    <tr>\n",
       "      <th>17</th>\n",
       "      <td>POLYGON ((-122.28088 37.70723, -122.27852 37.7...</td>\n",
       "      <td>Alameda County</td>\n",
       "      <td>(37.650508777950606, -121.91804267035259)</td>\n",
       "      <td>488780</td>\n",
       "      <td>06</td>\n",
       "      <td>001</td>\n",
       "      <td>488780</td>\n",
       "      <td>None</td>\n",
       "    </tr>\n",
       "    <tr>\n",
       "      <th>18</th>\n",
       "      <td>POLYGON ((-122.08018 39.41420, -122.08029 39.4...</td>\n",
       "      <td>Colusa County</td>\n",
       "      <td>(39.17757311146239, -122.237029614566)</td>\n",
       "      <td>7125</td>\n",
       "      <td>06</td>\n",
       "      <td>011</td>\n",
       "      <td>7125</td>\n",
       "      <td>None</td>\n",
       "    </tr>\n",
       "    <tr>\n",
       "      <th>19</th>\n",
       "      <td>POLYGON ((-117.98910 33.58579, -117.98903 33.5...</td>\n",
       "      <td>Orange County</td>\n",
       "      <td>(33.67691046444339, -117.7761385386203)</td>\n",
       "      <td>1224110</td>\n",
       "      <td>06</td>\n",
       "      <td>059</td>\n",
       "      <td>1224110</td>\n",
       "      <td>None</td>\n",
       "    </tr>\n",
       "    <tr>\n",
       "      <th>20</th>\n",
       "      <td>POLYGON ((-114.72652 32.71827, -114.72643 32.7...</td>\n",
       "      <td>Imperial County</td>\n",
       "      <td>(33.03959043332165, -115.36533696063049)</td>\n",
       "      <td>48310</td>\n",
       "      <td>06</td>\n",
       "      <td>025</td>\n",
       "      <td>48310</td>\n",
       "      <td>None</td>\n",
       "    </tr>\n",
       "    <tr>\n",
       "      <th>21</th>\n",
       "      <td>POLYGON ((-121.92833 39.19873, -121.92849 39.1...</td>\n",
       "      <td>Sutter County</td>\n",
       "      <td>(39.03455952340948, -121.69484967323802)</td>\n",
       "      <td>30280</td>\n",
       "      <td>06</td>\n",
       "      <td>101</td>\n",
       "      <td>30280</td>\n",
       "      <td>None</td>\n",
       "    </tr>\n",
       "    <tr>\n",
       "      <th>22</th>\n",
       "      <td>POLYGON ((-120.71374 39.48279, -120.71380 39.4...</td>\n",
       "      <td>Nevada County</td>\n",
       "      <td>(39.30136958137281, -120.7687521069452)</td>\n",
       "      <td>31825</td>\n",
       "      <td>06</td>\n",
       "      <td>057</td>\n",
       "      <td>31825</td>\n",
       "      <td>None</td>\n",
       "    </tr>\n",
       "    <tr>\n",
       "      <th>23</th>\n",
       "      <td>POLYGON ((-120.68159 37.51862, -120.68225 37.5...</td>\n",
       "      <td>Merced County</td>\n",
       "      <td>(37.191870470562364, -120.71768799975071)</td>\n",
       "      <td>76680</td>\n",
       "      <td>06</td>\n",
       "      <td>047</td>\n",
       "      <td>76680</td>\n",
       "      <td>None</td>\n",
       "    </tr>\n",
       "    <tr>\n",
       "      <th>24</th>\n",
       "      <td>POLYGON ((-120.92225 37.73747, -120.92359 37.7...</td>\n",
       "      <td>Stanislaus County</td>\n",
       "      <td>(37.55913744282795, -120.99768288397108)</td>\n",
       "      <td>172445</td>\n",
       "      <td>06</td>\n",
       "      <td>099</td>\n",
       "      <td>172445</td>\n",
       "      <td>None</td>\n",
       "    </tr>\n",
       "    <tr>\n",
       "      <th>25</th>\n",
       "      <td>POLYGON ((-123.54396 40.73294, -123.54417 40.7...</td>\n",
       "      <td>Trinity County</td>\n",
       "      <td>(40.650693559964395, -123.11262772503979)</td>\n",
       "      <td>3325</td>\n",
       "      <td>06</td>\n",
       "      <td>105</td>\n",
       "      <td>3325</td>\n",
       "      <td>None</td>\n",
       "    </tr>\n",
       "    <tr>\n",
       "      <th>26</th>\n",
       "      <td>POLYGON ((-122.26764 37.90425, -122.26746 37.9...</td>\n",
       "      <td>Contra Costa County</td>\n",
       "      <td>(37.92340423626577, -121.95103357335076)</td>\n",
       "      <td>367415</td>\n",
       "      <td>06</td>\n",
       "      <td>013</td>\n",
       "      <td>367415</td>\n",
       "      <td>None</td>\n",
       "    </tr>\n",
       "    <tr>\n",
       "      <th>27</th>\n",
       "      <td>POLYGON ((-122.46389 38.70520, -122.47731 38.7...</td>\n",
       "      <td>Napa County</td>\n",
       "      <td>(38.506473566622766, -122.33053279373641)</td>\n",
       "      <td>54325</td>\n",
       "      <td>06</td>\n",
       "      <td>055</td>\n",
       "      <td>54325</td>\n",
       "      <td>None</td>\n",
       "    </tr>\n",
       "    <tr>\n",
       "      <th>28</th>\n",
       "      <td>POLYGON ((-118.33758 36.65480, -118.33683 36.6...</td>\n",
       "      <td>Inyo County</td>\n",
       "      <td>(36.511126808209234, -117.41078968525228)</td>\n",
       "      <td>5935</td>\n",
       "      <td>06</td>\n",
       "      <td>027</td>\n",
       "      <td>5935</td>\n",
       "      <td>None</td>\n",
       "    </tr>\n",
       "    <tr>\n",
       "      <th>29</th>\n",
       "      <td>MULTIPOLYGON (((-119.32922 34.22784, -119.3286...</td>\n",
       "      <td>Ventura County</td>\n",
       "      <td>(34.3575367741933, -119.12601655746799)</td>\n",
       "      <td>321945</td>\n",
       "      <td>06</td>\n",
       "      <td>111</td>\n",
       "      <td>321945</td>\n",
       "      <td>None</td>\n",
       "    </tr>\n",
       "    <tr>\n",
       "      <th>30</th>\n",
       "      <td>POLYGON ((-119.95892 36.25547, -119.95891 36.2...</td>\n",
       "      <td>Kings County</td>\n",
       "      <td>(36.075360452154804, -119.81550270942394)</td>\n",
       "      <td>44005</td>\n",
       "      <td>06</td>\n",
       "      <td>031</td>\n",
       "      <td>44005</td>\n",
       "      <td>None</td>\n",
       "    </tr>\n",
       "    <tr>\n",
       "      <th>31</th>\n",
       "      <td>POLYGON ((-117.43743 33.17953, -117.43556 33.1...</td>\n",
       "      <td>San Diego County</td>\n",
       "      <td>(33.02818613100487, -116.77020425268914)</td>\n",
       "      <td>1207325</td>\n",
       "      <td>06</td>\n",
       "      <td>073</td>\n",
       "      <td>1207325</td>\n",
       "      <td>None</td>\n",
       "    </tr>\n",
       "    <tr>\n",
       "      <th>32</th>\n",
       "      <td>POLYGON ((-119.30890 38.00715, -119.30891 38.0...</td>\n",
       "      <td>Mono County</td>\n",
       "      <td>(37.938990341866905, -118.88670926082418)</td>\n",
       "      <td>3530</td>\n",
       "      <td>06</td>\n",
       "      <td>051</td>\n",
       "      <td>3530</td>\n",
       "      <td>None</td>\n",
       "    </tr>\n",
       "    <tr>\n",
       "      <th>33</th>\n",
       "      <td>POLYGON ((-120.50016 38.00412, -120.50006 38.0...</td>\n",
       "      <td>Tuolumne County</td>\n",
       "      <td>(38.0276014048473, -119.95475358011086)</td>\n",
       "      <td>15600</td>\n",
       "      <td>06</td>\n",
       "      <td>109</td>\n",
       "      <td>15600</td>\n",
       "      <td>None</td>\n",
       "    </tr>\n",
       "    <tr>\n",
       "      <th>34</th>\n",
       "      <td>POLYGON ((-122.06478 38.31591, -122.06830 38.3...</td>\n",
       "      <td>Solano County</td>\n",
       "      <td>(38.26691912358455, -121.94000687666963)</td>\n",
       "      <td>152255</td>\n",
       "      <td>06</td>\n",
       "      <td>095</td>\n",
       "      <td>152255</td>\n",
       "      <td>None</td>\n",
       "    </tr>\n",
       "    <tr>\n",
       "      <th>35</th>\n",
       "      <td>POLYGON ((-117.66724 34.73433, -117.66725 34.7...</td>\n",
       "      <td>San Bernardino County</td>\n",
       "      <td>(34.8414367918431, -116.17846174003478)</td>\n",
       "      <td>683775</td>\n",
       "      <td>06</td>\n",
       "      <td>071</td>\n",
       "      <td>683775</td>\n",
       "      <td>None</td>\n",
       "    </tr>\n",
       "    <tr>\n",
       "      <th>36</th>\n",
       "      <td>MULTIPOLYGON (((-122.61229 37.81522, -122.6002...</td>\n",
       "      <td>San Francisco County</td>\n",
       "      <td>(37.75971822211412, -122.69395265741014)</td>\n",
       "      <td>183045</td>\n",
       "      <td>06</td>\n",
       "      <td>075</td>\n",
       "      <td>183045</td>\n",
       "      <td>None</td>\n",
       "    </tr>\n",
       "    <tr>\n",
       "      <th>37</th>\n",
       "      <td>POLYGON ((-122.61527 40.88107, -122.61750 40.8...</td>\n",
       "      <td>Shasta County</td>\n",
       "      <td>(40.76376660115275, -122.04052152827461)</td>\n",
       "      <td>57850</td>\n",
       "      <td>06</td>\n",
       "      <td>089</td>\n",
       "      <td>57850</td>\n",
       "      <td>None</td>\n",
       "    </tr>\n",
       "    <tr>\n",
       "      <th>38</th>\n",
       "      <td>POLYGON ((-122.02681 36.54641, -122.02676 36.5...</td>\n",
       "      <td>Monterey County</td>\n",
       "      <td>(36.239774395504625, -121.30890155403297)</td>\n",
       "      <td>135550</td>\n",
       "      <td>06</td>\n",
       "      <td>053</td>\n",
       "      <td>135550</td>\n",
       "      <td>None</td>\n",
       "    </tr>\n",
       "    <tr>\n",
       "      <th>39</th>\n",
       "      <td>POLYGON ((-121.06544 39.00653, -121.06569 39.0...</td>\n",
       "      <td>Placer County</td>\n",
       "      <td>(39.06343204869648, -120.71764512787618)</td>\n",
       "      <td>132450</td>\n",
       "      <td>06</td>\n",
       "      <td>061</td>\n",
       "      <td>132450</td>\n",
       "      <td>None</td>\n",
       "    </tr>\n",
       "    <tr>\n",
       "      <th>40</th>\n",
       "      <td>POLYGON ((-123.83841 39.55492, -123.83657 39.5...</td>\n",
       "      <td>Mendocino County</td>\n",
       "      <td>(39.43362381528653, -123.43155390465398)</td>\n",
       "      <td>28075</td>\n",
       "      <td>06</td>\n",
       "      <td>045</td>\n",
       "      <td>28075</td>\n",
       "      <td>None</td>\n",
       "    </tr>\n",
       "    <tr>\n",
       "      <th>41</th>\n",
       "      <td>POLYGON ((-122.78639 37.88695, -122.78547 37.8...</td>\n",
       "      <td>Marin County</td>\n",
       "      <td>(38.05518870205687, -122.7488638437405)</td>\n",
       "      <td>87015</td>\n",
       "      <td>06</td>\n",
       "      <td>041</td>\n",
       "      <td>87015</td>\n",
       "      <td>None</td>\n",
       "    </tr>\n",
       "    <tr>\n",
       "      <th>42</th>\n",
       "      <td>POLYGON ((-120.32153 37.52440, -120.32149 37.5...</td>\n",
       "      <td>Mariposa County</td>\n",
       "      <td>(37.581522309059594, -119.90551702755104)</td>\n",
       "      <td>5125</td>\n",
       "      <td>06</td>\n",
       "      <td>043</td>\n",
       "      <td>5125</td>\n",
       "      <td>None</td>\n",
       "    </tr>\n",
       "    <tr>\n",
       "      <th>43</th>\n",
       "      <td>POLYGON ((-121.32191 40.65496, -121.32191 40.6...</td>\n",
       "      <td>Lassen County</td>\n",
       "      <td>(40.6735903790114, -120.59433283426733)</td>\n",
       "      <td>7170</td>\n",
       "      <td>06</td>\n",
       "      <td>035</td>\n",
       "      <td>7170</td>\n",
       "      <td>None</td>\n",
       "    </tr>\n",
       "    <tr>\n",
       "      <th>44</th>\n",
       "      <td>POLYGON ((-123.06515 39.05918, -123.06516 39.0...</td>\n",
       "      <td>Lake County</td>\n",
       "      <td>(39.09964534443131, -122.75318390909602)</td>\n",
       "      <td>17170</td>\n",
       "      <td>06</td>\n",
       "      <td>033</td>\n",
       "      <td>17170</td>\n",
       "      <td>None</td>\n",
       "    </tr>\n",
       "    <tr>\n",
       "      <th>45</th>\n",
       "      <td>POLYGON ((-120.63093 38.34110, -120.63105 38.3...</td>\n",
       "      <td>Calaveras County</td>\n",
       "      <td>(38.204606802516345, -120.55413209815065)</td>\n",
       "      <td>13125</td>\n",
       "      <td>06</td>\n",
       "      <td>009</td>\n",
       "      <td>13125</td>\n",
       "      <td>None</td>\n",
       "    </tr>\n",
       "    <tr>\n",
       "      <th>46</th>\n",
       "      <td>POLYGON ((-121.02729 38.48137, -121.02729 38.4...</td>\n",
       "      <td>Amador County</td>\n",
       "      <td>(38.44638950390165, -120.65111562048816)</td>\n",
       "      <td>9975</td>\n",
       "      <td>06</td>\n",
       "      <td>005</td>\n",
       "      <td>9975</td>\n",
       "      <td>None</td>\n",
       "    </tr>\n",
       "    <tr>\n",
       "      <th>47</th>\n",
       "      <td>POLYGON ((-121.36701 40.07767, -121.36701 40.0...</td>\n",
       "      <td>Plumas County</td>\n",
       "      <td>(40.004682471984204, -120.83859760058427)</td>\n",
       "      <td>5650</td>\n",
       "      <td>06</td>\n",
       "      <td>063</td>\n",
       "      <td>5650</td>\n",
       "      <td>None</td>\n",
       "    </tr>\n",
       "    <tr>\n",
       "      <th>48</th>\n",
       "      <td>POLYGON ((-122.58711 37.58755, -122.58747 37.5...</td>\n",
       "      <td>San Mateo County</td>\n",
       "      <td>(37.43620622895936, -122.35566179801563)</td>\n",
       "      <td>282360</td>\n",
       "      <td>06</td>\n",
       "      <td>081</td>\n",
       "      <td>282360</td>\n",
       "      <td>None</td>\n",
       "    </tr>\n",
       "    <tr>\n",
       "      <th>49</th>\n",
       "      <td>POLYGON ((-120.65559 39.69356, -120.65572 39.6...</td>\n",
       "      <td>Sierra County</td>\n",
       "      <td>(39.58040010154212, -120.51599637832268)</td>\n",
       "      <td>795</td>\n",
       "      <td>06</td>\n",
       "      <td>091</td>\n",
       "      <td>795</td>\n",
       "      <td>None</td>\n",
       "    </tr>\n",
       "    <tr>\n",
       "      <th>50</th>\n",
       "      <td>POLYGON ((-122.21668 37.21521, -122.21683 37.2...</td>\n",
       "      <td>Santa Cruz County</td>\n",
       "      <td>(37.02160591072545, -122.00978740331936)</td>\n",
       "      <td>94950</td>\n",
       "      <td>06</td>\n",
       "      <td>087</td>\n",
       "      <td>94950</td>\n",
       "      <td>None</td>\n",
       "    </tr>\n",
       "    <tr>\n",
       "      <th>51</th>\n",
       "      <td>POLYGON ((-121.18506 35.79416, -121.18550 35.7...</td>\n",
       "      <td>San Luis Obispo County</td>\n",
       "      <td>(35.38741848000535, -120.45219694510156)</td>\n",
       "      <td>96730</td>\n",
       "      <td>06</td>\n",
       "      <td>079</td>\n",
       "      <td>96730</td>\n",
       "      <td>None</td>\n",
       "    </tr>\n",
       "    <tr>\n",
       "      <th>52</th>\n",
       "      <td>POLYGON ((-122.89094 39.64488, -122.89094 39.6...</td>\n",
       "      <td>Glenn County</td>\n",
       "      <td>(39.59840476710975, -122.39220681000934)</td>\n",
       "      <td>8230</td>\n",
       "      <td>06</td>\n",
       "      <td>021</td>\n",
       "      <td>8230</td>\n",
       "      <td>None</td>\n",
       "    </tr>\n",
       "    <tr>\n",
       "      <th>53</th>\n",
       "      <td>MULTIPOLYGON (((-118.70339 34.16859, -118.7050...</td>\n",
       "      <td>Los Angeles County</td>\n",
       "      <td>(34.198012089237764, -118.26101244206917)</td>\n",
       "      <td>3499675</td>\n",
       "      <td>06</td>\n",
       "      <td>037</td>\n",
       "      <td>3499675</td>\n",
       "      <td>None</td>\n",
       "    </tr>\n",
       "    <tr>\n",
       "      <th>54</th>\n",
       "      <td>POLYGON ((-122.87087 42.00396, -122.87323 42.0...</td>\n",
       "      <td>Siskiyou County</td>\n",
       "      <td>(41.592686631852104, -122.54036776340257)</td>\n",
       "      <td>12230</td>\n",
       "      <td>06</td>\n",
       "      <td>093</td>\n",
       "      <td>12230</td>\n",
       "      <td>None</td>\n",
       "    </tr>\n",
       "    <tr>\n",
       "      <th>55</th>\n",
       "      <td>POLYGON ((-121.18857 38.71431, -121.18960 38.7...</td>\n",
       "      <td>Sacramento County</td>\n",
       "      <td>(38.44932223099036, -121.34425476783326)</td>\n",
       "      <td>501185</td>\n",
       "      <td>06</td>\n",
       "      <td>067</td>\n",
       "      <td>501185</td>\n",
       "      <td>None</td>\n",
       "    </tr>\n",
       "    <tr>\n",
       "      <th>56</th>\n",
       "      <td>MULTIPOLYGON (((-120.73429 34.90069, -120.7340...</td>\n",
       "      <td>Santa Barbara County</td>\n",
       "      <td>(34.53834408619989, -120.03078618303424)</td>\n",
       "      <td>147490</td>\n",
       "      <td>06</td>\n",
       "      <td>083</td>\n",
       "      <td>147490</td>\n",
       "      <td>None</td>\n",
       "    </tr>\n",
       "    <tr>\n",
       "      <th>57</th>\n",
       "      <td>POLYGON ((-122.93506 38.31395, -122.93497 38.3...</td>\n",
       "      <td>Sonoma County</td>\n",
       "      <td>(38.52529259590452, -122.92254446068918)</td>\n",
       "      <td>188980</td>\n",
       "      <td>06</td>\n",
       "      <td>097</td>\n",
       "      <td>188980</td>\n",
       "      <td>None</td>\n",
       "    </tr>\n",
       "  </tbody>\n",
       "</table>\n",
       "</div>"
      ],
      "text/plain": [
       "                                             geometry                    NAME  \\\n",
       "0   POLYGON ((-120.07333 38.70109, -120.07332 38.7...           Alpine County   \n",
       "1   POLYGON ((-121.11866 38.71707, -121.11176 38.7...        El Dorado County   \n",
       "2   POLYGON ((-121.59768 39.12779, -121.59773 39.1...             Yuba County   \n",
       "3   POLYGON ((-122.16494 38.64246, -122.16502 38.6...             Yolo County   \n",
       "4   POLYGON ((-121.48300 36.76505, -121.48295 36.7...       San Benito County   \n",
       "5   POLYGON ((-120.42219 36.84014, -120.42238 36.8...           Fresno County   \n",
       "6   POLYGON ((-124.31611 41.72839, -124.31370 41.7...        Del Norte County   \n",
       "7   POLYGON ((-124.28140 40.79915, -124.28658 40.7...         Humboldt County   \n",
       "8   POLYGON ((-119.91366 35.43926, -119.91230 35.4...             Kern County   \n",
       "9   POLYGON ((-121.20789 38.24882, -121.20805 38.2...      San Joaquin County   \n",
       "10  POLYGON ((-117.67244 33.87026, -117.67225 33.8...        Riverside County   \n",
       "11  POLYGON ((-122.37148 40.37261, -122.37261 40.3...           Tehama County   \n",
       "12  POLYGON ((-120.10638 37.16715, -120.10654 37.1...           Madera County   \n",
       "13  POLYGON ((-122.04412 37.20050, -122.04401 37.2...      Santa Clara County   \n",
       "14  POLYGON ((-121.44890 41.47281, -121.44884 41.4...            Modoc County   \n",
       "15  POLYGON ((-121.85650 39.53358, -121.85649 39.5...            Butte County   \n",
       "16  POLYGON ((-118.80373 35.79035, -118.80164 35.7...           Tulare County   \n",
       "17  POLYGON ((-122.28088 37.70723, -122.27852 37.7...          Alameda County   \n",
       "18  POLYGON ((-122.08018 39.41420, -122.08029 39.4...           Colusa County   \n",
       "19  POLYGON ((-117.98910 33.58579, -117.98903 33.5...           Orange County   \n",
       "20  POLYGON ((-114.72652 32.71827, -114.72643 32.7...         Imperial County   \n",
       "21  POLYGON ((-121.92833 39.19873, -121.92849 39.1...           Sutter County   \n",
       "22  POLYGON ((-120.71374 39.48279, -120.71380 39.4...           Nevada County   \n",
       "23  POLYGON ((-120.68159 37.51862, -120.68225 37.5...           Merced County   \n",
       "24  POLYGON ((-120.92225 37.73747, -120.92359 37.7...       Stanislaus County   \n",
       "25  POLYGON ((-123.54396 40.73294, -123.54417 40.7...          Trinity County   \n",
       "26  POLYGON ((-122.26764 37.90425, -122.26746 37.9...     Contra Costa County   \n",
       "27  POLYGON ((-122.46389 38.70520, -122.47731 38.7...             Napa County   \n",
       "28  POLYGON ((-118.33758 36.65480, -118.33683 36.6...             Inyo County   \n",
       "29  MULTIPOLYGON (((-119.32922 34.22784, -119.3286...          Ventura County   \n",
       "30  POLYGON ((-119.95892 36.25547, -119.95891 36.2...            Kings County   \n",
       "31  POLYGON ((-117.43743 33.17953, -117.43556 33.1...        San Diego County   \n",
       "32  POLYGON ((-119.30890 38.00715, -119.30891 38.0...             Mono County   \n",
       "33  POLYGON ((-120.50016 38.00412, -120.50006 38.0...         Tuolumne County   \n",
       "34  POLYGON ((-122.06478 38.31591, -122.06830 38.3...           Solano County   \n",
       "35  POLYGON ((-117.66724 34.73433, -117.66725 34.7...   San Bernardino County   \n",
       "36  MULTIPOLYGON (((-122.61229 37.81522, -122.6002...    San Francisco County   \n",
       "37  POLYGON ((-122.61527 40.88107, -122.61750 40.8...           Shasta County   \n",
       "38  POLYGON ((-122.02681 36.54641, -122.02676 36.5...         Monterey County   \n",
       "39  POLYGON ((-121.06544 39.00653, -121.06569 39.0...           Placer County   \n",
       "40  POLYGON ((-123.83841 39.55492, -123.83657 39.5...        Mendocino County   \n",
       "41  POLYGON ((-122.78639 37.88695, -122.78547 37.8...            Marin County   \n",
       "42  POLYGON ((-120.32153 37.52440, -120.32149 37.5...         Mariposa County   \n",
       "43  POLYGON ((-121.32191 40.65496, -121.32191 40.6...           Lassen County   \n",
       "44  POLYGON ((-123.06515 39.05918, -123.06516 39.0...             Lake County   \n",
       "45  POLYGON ((-120.63093 38.34110, -120.63105 38.3...        Calaveras County   \n",
       "46  POLYGON ((-121.02729 38.48137, -121.02729 38.4...           Amador County   \n",
       "47  POLYGON ((-121.36701 40.07767, -121.36701 40.0...           Plumas County   \n",
       "48  POLYGON ((-122.58711 37.58755, -122.58747 37.5...        San Mateo County   \n",
       "49  POLYGON ((-120.65559 39.69356, -120.65572 39.6...           Sierra County   \n",
       "50  POLYGON ((-122.21668 37.21521, -122.21683 37.2...       Santa Cruz County   \n",
       "51  POLYGON ((-121.18506 35.79416, -121.18550 35.7...  San Luis Obispo County   \n",
       "52  POLYGON ((-122.89094 39.64488, -122.89094 39.6...            Glenn County   \n",
       "53  MULTIPOLYGON (((-118.70339 34.16859, -118.7050...      Los Angeles County   \n",
       "54  POLYGON ((-122.87087 42.00396, -122.87323 42.0...         Siskiyou County   \n",
       "55  POLYGON ((-121.18857 38.71431, -121.18960 38.7...       Sacramento County   \n",
       "56  MULTIPOLYGON (((-120.73429 34.90069, -120.7340...    Santa Barbara County   \n",
       "57  POLYGON ((-122.93506 38.31395, -122.93497 38.3...           Sonoma County   \n",
       "\n",
       "                                     centroid B08015_001E state county  \\\n",
       "0    (38.59725063317207, -119.82065303034453)         270    06    003   \n",
       "1   (38.778737042440646, -120.52465107178368)       62135    06    017   \n",
       "2     (39.26900765367862, -121.3512627386866)       21565    06    115   \n",
       "3    (38.68666040139593, -121.90161702501356)       65060    06    113   \n",
       "4    (36.60570589668711, -121.07499552455516)       21420    06    069   \n",
       "5    (36.75818012643308, -119.64932262926772)      296510    06    019   \n",
       "6    (41.74494236554737, -123.95780135595136)        6585    06    015   \n",
       "7    (40.70500907826406, -123.91581944402172)       43290    06    023   \n",
       "8    (35.34285593411939, -118.72990396493257)      267185    06    029   \n",
       "9     (37.93474703225379, -121.2714032752314)      225340    06    077   \n",
       "10    (33.7436801046772, -115.99384631142885)      744535    06    065   \n",
       "11   (40.12573618337585, -122.23388485176037)       18705    06    103   \n",
       "12   (37.21804405553327, -119.76264450698204)       36395    06    039   \n",
       "13   (37.23248418248963, -121.69627914808197)      720970    06    085   \n",
       "14   (41.58983356894706, -120.72502895414779)        2250    06    049   \n",
       "15   (39.66692936289998, -121.60067173520562)       69100    06    007   \n",
       "16  (36.220156659044704, -118.80047248001355)      136800    06    107   \n",
       "17  (37.650508777950606, -121.91804267035259)      488780    06    001   \n",
       "18     (39.17757311146239, -122.237029614566)        7125    06    011   \n",
       "19    (33.67691046444339, -117.7761385386203)     1224110    06    059   \n",
       "20   (33.03959043332165, -115.36533696063049)       48310    06    025   \n",
       "21   (39.03455952340948, -121.69484967323802)       30280    06    101   \n",
       "22    (39.30136958137281, -120.7687521069452)       31825    06    057   \n",
       "23  (37.191870470562364, -120.71768799975071)       76680    06    047   \n",
       "24   (37.55913744282795, -120.99768288397108)      172445    06    099   \n",
       "25  (40.650693559964395, -123.11262772503979)        3325    06    105   \n",
       "26   (37.92340423626577, -121.95103357335076)      367415    06    013   \n",
       "27  (38.506473566622766, -122.33053279373641)       54325    06    055   \n",
       "28  (36.511126808209234, -117.41078968525228)        5935    06    027   \n",
       "29    (34.3575367741933, -119.12601655746799)      321945    06    111   \n",
       "30  (36.075360452154804, -119.81550270942394)       44005    06    031   \n",
       "31   (33.02818613100487, -116.77020425268914)     1207325    06    073   \n",
       "32  (37.938990341866905, -118.88670926082418)        3530    06    051   \n",
       "33    (38.0276014048473, -119.95475358011086)       15600    06    109   \n",
       "34   (38.26691912358455, -121.94000687666963)      152255    06    095   \n",
       "35    (34.8414367918431, -116.17846174003478)      683775    06    071   \n",
       "36   (37.75971822211412, -122.69395265741014)      183045    06    075   \n",
       "37   (40.76376660115275, -122.04052152827461)       57850    06    089   \n",
       "38  (36.239774395504625, -121.30890155403297)      135550    06    053   \n",
       "39   (39.06343204869648, -120.71764512787618)      132450    06    061   \n",
       "40   (39.43362381528653, -123.43155390465398)       28075    06    045   \n",
       "41    (38.05518870205687, -122.7488638437405)       87015    06    041   \n",
       "42  (37.581522309059594, -119.90551702755104)        5125    06    043   \n",
       "43    (40.6735903790114, -120.59433283426733)        7170    06    035   \n",
       "44   (39.09964534443131, -122.75318390909602)       17170    06    033   \n",
       "45  (38.204606802516345, -120.55413209815065)       13125    06    009   \n",
       "46   (38.44638950390165, -120.65111562048816)        9975    06    005   \n",
       "47  (40.004682471984204, -120.83859760058427)        5650    06    063   \n",
       "48   (37.43620622895936, -122.35566179801563)      282360    06    081   \n",
       "49   (39.58040010154212, -120.51599637832268)         795    06    091   \n",
       "50   (37.02160591072545, -122.00978740331936)       94950    06    087   \n",
       "51   (35.38741848000535, -120.45219694510156)       96730    06    079   \n",
       "52   (39.59840476710975, -122.39220681000934)        8230    06    021   \n",
       "53  (34.198012089237764, -118.26101244206917)     3499675    06    037   \n",
       "54  (41.592686631852104, -122.54036776340257)       12230    06    093   \n",
       "55   (38.44932223099036, -121.34425476783326)      501185    06    067   \n",
       "56   (34.53834408619989, -120.03078618303424)      147490    06    083   \n",
       "57   (38.52529259590452, -122.92254446068918)      188980    06    097   \n",
       "\n",
       "   Production Attraction  \n",
       "0         270       None  \n",
       "1       62135       None  \n",
       "2       21565       None  \n",
       "3       65060       None  \n",
       "4       21420       None  \n",
       "5      296510       None  \n",
       "6        6585       None  \n",
       "7       43290       None  \n",
       "8      267185       None  \n",
       "9      225340       None  \n",
       "10     744535       None  \n",
       "11      18705       None  \n",
       "12      36395       None  \n",
       "13     720970       None  \n",
       "14       2250       None  \n",
       "15      69100       None  \n",
       "16     136800       None  \n",
       "17     488780       None  \n",
       "18       7125       None  \n",
       "19    1224110       None  \n",
       "20      48310       None  \n",
       "21      30280       None  \n",
       "22      31825       None  \n",
       "23      76680       None  \n",
       "24     172445       None  \n",
       "25       3325       None  \n",
       "26     367415       None  \n",
       "27      54325       None  \n",
       "28       5935       None  \n",
       "29     321945       None  \n",
       "30      44005       None  \n",
       "31    1207325       None  \n",
       "32       3530       None  \n",
       "33      15600       None  \n",
       "34     152255       None  \n",
       "35     683775       None  \n",
       "36     183045       None  \n",
       "37      57850       None  \n",
       "38     135550       None  \n",
       "39     132450       None  \n",
       "40      28075       None  \n",
       "41      87015       None  \n",
       "42       5125       None  \n",
       "43       7170       None  \n",
       "44      17170       None  \n",
       "45      13125       None  \n",
       "46       9975       None  \n",
       "47       5650       None  \n",
       "48     282360       None  \n",
       "49        795       None  \n",
       "50      94950       None  \n",
       "51      96730       None  \n",
       "52       8230       None  \n",
       "53    3499675       None  \n",
       "54      12230       None  \n",
       "55     501185       None  \n",
       "56     147490       None  \n",
       "57     188980       None  "
      ]
     },
     "execution_count": 66,
     "metadata": {},
     "output_type": "execute_result"
    }
   ],
   "source": [
    "zones"
   ]
  },
  {
   "cell_type": "code",
   "execution_count": 68,
   "metadata": {},
   "outputs": [
    {
     "data": {
      "text/plain": [
       "geometry       geometry\n",
       "NAME             object\n",
       "centroid         object\n",
       "B08015_001E      object\n",
       "state            object\n",
       "county           object\n",
       "Production       object\n",
       "Attraction       object\n",
       "dtype: object"
      ]
     },
     "execution_count": 68,
     "metadata": {},
     "output_type": "execute_result"
    }
   ],
   "source": [
    "zones.dtypes"
   ]
  },
  {
   "cell_type": "code",
   "execution_count": 69,
   "metadata": {},
   "outputs": [
    {
     "data": {
      "text/plain": [
       "geometry       geometry\n",
       "NAME             object\n",
       "centroid         object\n",
       "B08015_001E      object\n",
       "state             int64\n",
       "county            int64\n",
       "Production        int64\n",
       "Attraction       object\n",
       "dtype: object"
      ]
     },
     "execution_count": 69,
     "metadata": {},
     "output_type": "execute_result"
    }
   ],
   "source": [
    "zones.astype({'Production': 'int64','state': 'int64','county':'int64'}).dtypes"
   ]
  },
  {
   "cell_type": "code",
   "execution_count": 80,
   "metadata": {},
   "outputs": [],
   "source": [
    "def getEmployment(state, county):\n",
    "    prefix = 'EN'\n",
    "    seasonal_adjustment = 'U'\n",
    "    area = format(state, \"02d\") + format(county, \"03d\")\n",
    "    data_type = '1'\n",
    "    size = '0'\n",
    "    ownership = '0'\n",
    "    industry = '10'\n",
    "    seriesid = prefix + seasonal_adjustment + area + data_type + size + ownership + industry\n",
    "    headers = {'Content-type': 'application/json'}\n",
    "    data = json.dumps({\"seriesid\": [seriesid],\"startyear\":\"2015\", \"endyear\":\"2015\",\"registrationKey\":\"5032bc384942419cb895bb2583d5f944\"})\n",
    "    p = requests.post('https://api.bls.gov/publicAPI/v2/timeseries/data/', data=data, headers=headers)\n",
    "    employment = p.json()['Results']['series'][0]['data'][0]['value']\n",
    "    print(area,' ',employment)\n",
    "    return(employment)"
   ]
  },
  {
   "cell_type": "markdown",
   "metadata": {},
   "source": [
    "Read me Bureau of labor statistics: https://www.bls.gov/help/hlpforma.html\n",
    "        \n",
    "LBS API example: https://www.bls.gov/developers/api_python.htm#python1\n",
    "        \n",
    "Get your API: https://data.bls.gov/registrationEngine/"
   ]
  },
  {
   "cell_type": "code",
   "execution_count": 81,
   "metadata": {},
   "outputs": [],
   "source": [
    "#employment = lambda row: int(getEmployment('06','003')) \n",
    "employment = lambda row: int(getEmployment(int(row['state']),int(row['county'])))"
   ]
  },
  {
   "cell_type": "code",
   "execution_count": 82,
   "metadata": {},
   "outputs": [
    {
     "name": "stdout",
     "output_type": "stream",
     "text": [
      "Requirement already satisfied: apply in /Users/marta/opt/miniconda3/lib/python3.7/site-packages (1.5)\r\n"
     ]
    }
   ],
   "source": [
    "!pip install apply"
   ]
  },
  {
   "cell_type": "code",
   "execution_count": 83,
   "metadata": {},
   "outputs": [],
   "source": [
    "zones['Attraction'] = None"
   ]
  },
  {
   "cell_type": "markdown",
   "metadata": {},
   "source": [
    "### This part retrieves employment from Census can take 1min for each county"
   ]
  },
  {
   "cell_type": "code",
   "execution_count": null,
   "metadata": {},
   "outputs": [
    {
     "name": "stdout",
     "output_type": "stream",
     "text": [
      "06003   531\n",
      "06017   53161\n",
      "06115   16419\n",
      "06113   96663\n",
      "06069   15416\n",
      "06019   363634\n",
      "06015   7898\n",
      "06023   47564\n",
      "06029   307076\n",
      "06077   233435\n",
      "06065   680905\n",
      "06103   17025\n",
      "06039   46472\n",
      "06085   1041314\n",
      "06049   2310\n",
      "06007   79361\n",
      "06107   152947\n",
      "06001   741843\n",
      "06011   8358\n",
      "06059   1551455\n",
      "06025   64118\n",
      "06101   28401\n",
      "06057   30768\n",
      "06047   74061\n",
      "06099   179694\n",
      "06105   2636\n",
      "06013   355341\n",
      "06055   73022\n",
      "06027   7551\n",
      "06111   321003\n",
      "06031   45680\n",
      "06073   1400645\n",
      "06051   7416\n",
      "06109   17005\n",
      "06095   134160\n",
      "06071   724618\n",
      "06075   696122\n",
      "06089   64597\n",
      "06053   166022\n",
      "06061   151854\n",
      "06045   31671\n",
      "06041   114168\n",
      "06043   4934\n",
      "06035   9949\n",
      "06033   15457\n",
      "06009   8888\n",
      "06005   11500\n",
      "06063   5642\n",
      "06081   393661\n",
      "06091   495\n",
      "06087   97624\n",
      "06079   113646\n",
      "06021   8651\n",
      "06037   4355391\n",
      "06093   12735\n",
      "06067   638371\n",
      "06083   192153\n"
     ]
    }
   ],
   "source": [
    "zones['Attraction'] = zones.transpose().apply(employment)"
   ]
  },
  {
   "cell_type": "code",
   "execution_count": 58,
   "metadata": {},
   "outputs": [
    {
     "data": {
      "text/plain": [
       "'531'"
      ]
     },
     "execution_count": 58,
     "metadata": {},
     "output_type": "execute_result"
    }
   ],
   "source": [
    "getEmployment(6,3)"
   ]
  },
  {
   "cell_type": "code",
   "execution_count": null,
   "metadata": {},
   "outputs": [],
   "source": [
    "zones.head()"
   ]
  },
  {
   "cell_type": "code",
   "execution_count": null,
   "metadata": {},
   "outputs": [],
   "source": [
    "pandas.set_option('display.float_format', lambda x: '%.0f' % x)\n",
    "zones[['Production', 'Attraction']].head()"
   ]
  },
  {
   "cell_type": "code",
   "execution_count": null,
   "metadata": {},
   "outputs": [],
   "source": [
    "zones.index = zones.NAME #adds column Name to index column and sorts\n",
    "zones.sort_index(inplace=True)"
   ]
  },
  {
   "cell_type": "code",
   "execution_count": null,
   "metadata": {},
   "outputs": [],
   "source": [
    "pandas.set_option('display.float_format', lambda x: '%.0f' % x)\n",
    "zones[['Production', 'Attraction']].head()"
   ]
  },
  {
   "cell_type": "markdown",
   "metadata": {},
   "source": [
    "### Here we scale Trip production to match total employment"
   ]
  },
  {
   "cell_type": "code",
   "execution_count": null,
   "metadata": {},
   "outputs": [],
   "source": [
    "zones['Production'] = zones['Production'] * zones.sum()['Attraction'] / zones.sum()['Production'] "
   ]
  },
  {
   "cell_type": "code",
   "execution_count": null,
   "metadata": {},
   "outputs": [],
   "source": [
    "pandas.set_option('display.float_format', lambda x: '%.0f' % x)\n",
    "zones[['Production', 'Attraction']].head()"
   ]
  },
  {
   "cell_type": "markdown",
   "metadata": {},
   "source": [
    "# This part uses the ipfn function to generate trip distribtion it starts with an example of themethod."
   ]
  },
  {
   "cell_type": "code",
   "execution_count": 235,
   "metadata": {},
   "outputs": [
    {
     "name": "stdout",
     "output_type": "stream",
     "text": [
      "    age  distance  total\n",
      "0    30        10      8\n",
      "1    30        20      4\n",
      "2    30        30      6\n",
      "3    30        40      7\n",
      "4    40        10      3\n",
      "5    40        20      6\n",
      "6    40        30      5\n",
      "7    40        40      2\n",
      "8    50        10      9\n",
      "9    50        20     11\n",
      "10   50        30      3\n",
      "11   50        40      1\n"
     ]
    }
   ],
   "source": [
    "#Runs the ipfn method from a dataframe df, aggregates/marginals and the dimension(s) preserved.\n",
    "#For example:\n",
    "from ipfn import ipfn\n",
    "import pandas as pd\n",
    "age = [30, 30, 30, 30, 40, 40, 40, 40, 50, 50, 50, 50]\n",
    "distance = [10,20,30,40,10,20,30,40,10,20,30,40]\n",
    "m = [8., 4., 6., 7., 3., 6., 5., 2., 9., 11., 3., 1.]\n",
    "df = pd.DataFrame()\n",
    "df['age'] = age\n",
    "df['distance'] = distance\n",
    "df['total'] = m\n",
    "print(df)\n",
    "xip = df.groupby('age')['total'].sum()"
   ]
  },
  {
   "cell_type": "code",
   "execution_count": 236,
   "metadata": {},
   "outputs": [
    {
     "data": {
      "text/plain": [
       "age\n",
       "30   25\n",
       "40   16\n",
       "50   24\n",
       "Name: total, dtype: float64"
      ]
     },
     "execution_count": 236,
     "metadata": {},
     "output_type": "execute_result"
    }
   ],
   "source": [
    "xip  #by age initially sums 65"
   ]
  },
  {
   "cell_type": "code",
   "execution_count": 237,
   "metadata": {},
   "outputs": [],
   "source": [
    "#xip changes to 60\n",
    "xip.loc[30] = 20\n",
    "xip.loc[40] = 18\n",
    "xip.loc[50] = 22"
   ]
  },
  {
   "cell_type": "code",
   "execution_count": 238,
   "metadata": {},
   "outputs": [],
   "source": [
    "xpj = df.groupby('distance')['total'].sum()"
   ]
  },
  {
   "cell_type": "code",
   "execution_count": 239,
   "metadata": {},
   "outputs": [
    {
     "data": {
      "text/plain": [
       "distance\n",
       "10   20\n",
       "20   21\n",
       "30   14\n",
       "40   10\n",
       "Name: total, dtype: float64"
      ]
     },
     "execution_count": 239,
     "metadata": {},
     "output_type": "execute_result"
    }
   ],
   "source": [
    "xpj #stays in 65"
   ]
  },
  {
   "cell_type": "code",
   "execution_count": 240,
   "metadata": {},
   "outputs": [
    {
     "name": "stdout",
     "output_type": "stream",
     "text": [
      "ipfn converged: convergence_rate not updating or below rate_tolerance\n"
     ]
    }
   ],
   "source": [
    "dimensions = [['age'], ['distance']]\n",
    "aggregates = [xip, xpj]\n",
    "IPF = ipfn.ipfn(df, aggregates, dimensions)\n",
    "df = IPF.iteration()"
   ]
  },
  {
   "cell_type": "code",
   "execution_count": 241,
   "metadata": {},
   "outputs": [
    {
     "name": "stdout",
     "output_type": "stream",
     "text": [
      "    distance  age  total\n",
      "0         10   30      7\n",
      "1         20   30      3\n",
      "2         30   30      5\n",
      "3         40   30      6\n",
      "4         10   40      4\n",
      "5         20   40      7\n",
      "6         30   40      6\n",
      "7         40   40      3\n",
      "8         10   50      9\n",
      "9         20   50     11\n",
      "10        30   50      3\n",
      "11        40   50      1\n"
     ]
    }
   ],
   "source": [
    "print(df)"
   ]
  },
  {
   "cell_type": "code",
   "execution_count": 242,
   "metadata": {},
   "outputs": [
    {
     "name": "stdout",
     "output_type": "stream",
     "text": [
      "age\n",
      "30   22\n",
      "40   20\n",
      "50   24\n",
      "Name: total, dtype: float64 age\n",
      "30   20\n",
      "40   18\n",
      "50   22\n",
      "Name: total, dtype: float64\n"
     ]
    }
   ],
   "source": [
    "print(df.groupby('age')['total'].sum(), xip) #after ipf goes to xip"
   ]
  },
  {
   "cell_type": "code",
   "execution_count": 243,
   "metadata": {},
   "outputs": [
    {
     "name": "stdout",
     "output_type": "stream",
     "text": [
      "distance\n",
      "10   20\n",
      "20   21\n",
      "30   14\n",
      "40   10\n",
      "Name: total, dtype: float64 distance\n",
      "10   20\n",
      "20   21\n",
      "30   14\n",
      "40   10\n",
      "Name: total, dtype: float64\n"
     ]
    }
   ],
   "source": [
    "print(df.groupby('distance')['total'].sum(), xpj) #without changing totals by distance"
   ]
  },
  {
   "cell_type": "markdown",
   "metadata": {},
   "source": [
    "#### Now we generate a cost function based on distances between origins and destinations"
   ]
  },
  {
   "cell_type": "code",
   "execution_count": null,
   "metadata": {},
   "outputs": [],
   "source": [
    "def costFunction(zones, zone1, zone2, beta):\n",
    "    cost = math.exp(-beta * haversine(zones[zone1]['centroid'], zones[zone2]['centroid']))\n",
    "    return(cost)"
   ]
  },
  {
   "cell_type": "code",
   "execution_count": null,
   "metadata": {},
   "outputs": [],
   "source": [
    "def costMatrixGenerator(zones, costFunction, beta):\n",
    "    originList = []\n",
    "    for originZone in zones:\n",
    "        destinationList = []\n",
    "        for destinationZone in zones:\n",
    "            destinationList.append(costFunction(zones, originZone, destinationZone, beta))\n",
    "        originList.append(destinationList)\n",
    "    return(pandas.DataFrame(originList, index=zones.columns, columns=zones.columns))"
   ]
  },
  {
   "cell_type": "code",
   "execution_count": null,
   "metadata": {},
   "outputs": [],
   "source": [
    "costMatrix=[]\n",
    "beta = 0.01"
   ]
  },
  {
   "cell_type": "code",
   "execution_count": null,
   "metadata": {},
   "outputs": [],
   "source": [
    "costMatrix = costMatrixGenerator(zones.transpose(),costFunction,beta)"
   ]
  },
  {
   "cell_type": "code",
   "execution_count": null,
   "metadata": {},
   "outputs": [],
   "source": [
    "costMatrix"
   ]
  },
  {
   "cell_type": "markdown",
   "metadata": {},
   "source": [
    "#### GENERATES Trip Distribution keeping marginals of production and attractiom"
   ]
  },
  {
   "cell_type": "code",
   "execution_count": null,
   "metadata": {},
   "outputs": [],
   "source": [
    "def tripDistribution(tripGeneration,costMatrix):\n",
    "    costMatrix['ozone'] = costMatrix.columns\n",
    "    costMatrix = costMatrix.melt(id_vars=['ozone'])\n",
    "    costMatrix.columns = ['ozone', 'dzone', 'total']\n",
    "    production = tripGeneration['Production']\n",
    "    production.index.name = 'ozone'\n",
    "    attraction = tripGeneration['Attraction']\n",
    "    attraction.index.name = 'dzone'\n",
    "    aggregates = [production, attraction]\n",
    "    dimensions = [['ozone'], ['dzone']]\n",
    "    IPF = ipfn.ipfn(costMatrix, aggregates, dimensions)\n",
    "    trips = IPF.iteration()\n",
    "    return(trips.pivot(index='ozone', columns='dzone', values='total'))"
   ]
  },
  {
   "cell_type": "code",
   "execution_count": null,
   "metadata": {},
   "outputs": [],
   "source": [
    "trips = tripDistribution(zones, costMatrix)"
   ]
  },
  {
   "cell_type": "code",
   "execution_count": null,
   "metadata": {},
   "outputs": [],
   "source": [
    "def modeChoiceFunction(zones, zone1, zone2, modes):\n",
    "    distance = haversine(zones[zone1]['centroid'], zones[zone2]['centroid'])\n",
    "    probability = {}\n",
    "    total = 0.0\n",
    "    for mode in modes:\n",
    "        total = total + math.exp(modes[mode] * distance)\n",
    "    for mode in modes:\n",
    "        probability[mode] = math.exp(modes[mode] * distance) / total\n",
    "    return(probability)"
   ]
  },
  {
   "cell_type": "code",
   "execution_count": null,
   "metadata": {},
   "outputs": [],
   "source": [
    "def probabilityMatrixGenerator (zones, modeChoiceFunction, modes):\n",
    "    probabilityMatrix = {}\n",
    "    for mode in modes:\n",
    "        originList = []\n",
    "        for originZone in zones:\n",
    "            destinationList = []\n",
    "            for destinationZone in zones:\n",
    "                destinationList.append(modeChoiceFunction(zones, originZone, destinationZone, modes)[mode])\n",
    "            originList.append(destinationList)\n",
    "        probabilityMatrix[mode] = pandas.DataFrame(originList, index=zones.columns, columns=zones.columns)\n",
    "    return(probabilityMatrix)"
   ]
  },
  {
   "cell_type": "code",
   "execution_count": null,
   "metadata": {},
   "outputs": [],
   "source": [
    "modes = {'walking': .05, 'cycling': .05, 'driving': .05}\n",
    "probabilityMatrix = probabilityMatrixGenerator(zones.transpose(), modeChoiceFunction, modes)"
   ]
  },
  {
   "cell_type": "code",
   "execution_count": null,
   "metadata": {},
   "outputs": [],
   "source": [
    "drivingTrips = Trips * probabilityMatrix['driving']"
   ]
  },
  {
   "cell_type": "code",
   "execution_count": null,
   "metadata": {},
   "outputs": [],
   "source": [
    "def routeAssignment(zones, trips):\n",
    "    G = networkx.Graph()\n",
    "    G.add_nodes_from(zones.columns)\n",
    "    for zone1 in zones:\n",
    "        for zone2 in zones:\n",
    "            if zones[zone1]['geometry'].touches(zones[zone2]['geometry']):\n",
    "                G.add_edge(zone1, zone2, distance = haversine(zones[zone1]['centroid'], zones[zone2]['centroid']), volume=0.0)\n",
    "    for origin in trips:\n",
    "        for destination in trips:\n",
    "            path = networkx.shortest_path(G, origin, destination)\n",
    "        for i in range(len(path) - 1):\n",
    "            G[path[i]][path[i + 1]]['volume'] = G[path[i]][path[i + 1]]['volume'] + trips[zone1][zone2]\n",
    "    return(G)"
   ]
  },
  {
   "cell_type": "code",
   "execution_count": null,
   "metadata": {},
   "outputs": [],
   "source": [
    "def visualize(G, zones):\n",
    "    fig = pyplot.figure(1, figsize=(10, 10), dpi=90)\n",
    "    ax = fig.add_subplot(111)\n",
    "    zonesT = zones.transpose()\n",
    "    for i, row in zones.transpose().iterrows():\n",
    "        text = pyplot.annotate(s=row['NAME'], xy=((row['centroid'][1], row['centroid'][0])), horizontalalignment='center', fontsize=6)\n",
    "        text.set_path_effects([patheffects.Stroke(linewidth=3, foreground='white'), patheffects.Normal()])\n",
    "        \n",
    "    for zone1,zone2,w in G.edges(data=True):\n",
    "        volume=list(dict(w).values())\n",
    "        #print zone1,' ',zone2,' ',volume[0]\n",
    "        x = [zones[zone1]['centroid'][1], zones[zone2]['centroid'][1]]\n",
    "        y = [zones[zone1]['centroid'][0], zones[zone2]['centroid'][0]]\n",
    "        ax.plot(x, y, color='#444444', linewidth=volume[0]/500, solid_capstyle='round', zorder=1)\n",
    "    zonesT.plot(ax = ax,color='#DAF7A6')\n",
    "    pyplot.show(block=False)    "
   ]
  },
  {
   "cell_type": "code",
   "execution_count": null,
   "metadata": {},
   "outputs": [],
   "source": [
    "G = routeAssignment(zones.transpose(), drivingTrips)"
   ]
  },
  {
   "cell_type": "code",
   "execution_count": null,
   "metadata": {},
   "outputs": [],
   "source": [
    "G"
   ]
  },
  {
   "cell_type": "code",
   "execution_count": null,
   "metadata": {},
   "outputs": [],
   "source": [
    "visualize(G, zones.transpose())"
   ]
  },
  {
   "cell_type": "markdown",
   "metadata": {},
   "source": [
    "## For playing with parameters"
   ]
  },
  {
   "cell_type": "code",
   "execution_count": null,
   "metadata": {},
   "outputs": [],
   "source": [
    "# Trip Distribution\n",
    "beta = 0.001\n",
    "costMatrix = costMatrixGenerator(zones.transpose(), costFunction, beta)\n",
    "Trips = tripDistribution(zones, costMatrix)\n",
    "# Mode Choice\n",
    "modes = {'walking': .05, 'cycling': .05, 'driving': .05}\n",
    "probabilityMatrix = probabilityMatrixGenerator(zones.transpose(), modeChoiceFunction, modes)\n",
    "drivingTrips = Trips * probabilityMatrix['driving']\n",
    "# Route Assignment\n",
    "G = routeAssignment(zones.transpose(), drivingTrips)\n",
    "visualize(G, zones.transpose())"
   ]
  },
  {
   "cell_type": "code",
   "execution_count": null,
   "metadata": {},
   "outputs": [],
   "source": [
    "G.number_of_edges()"
   ]
  },
  {
   "cell_type": "code",
   "execution_count": null,
   "metadata": {},
   "outputs": [],
   "source": [
    "58*58"
   ]
  },
  {
   "cell_type": "code",
   "execution_count": null,
   "metadata": {},
   "outputs": [],
   "source": [
    "len(zones)"
   ]
  },
  {
   "cell_type": "code",
   "execution_count": null,
   "metadata": {},
   "outputs": [],
   "source": []
  },
  {
   "cell_type": "code",
   "execution_count": null,
   "metadata": {},
   "outputs": [],
   "source": []
  },
  {
   "cell_type": "code",
   "execution_count": null,
   "metadata": {},
   "outputs": [],
   "source": []
  },
  {
   "cell_type": "code",
   "execution_count": null,
   "metadata": {},
   "outputs": [],
   "source": []
  }
 ],
 "metadata": {
  "anaconda-cloud": {},
  "kernelspec": {
   "display_name": "Python 3",
   "language": "python",
   "name": "python3"
  },
  "language_info": {
   "codemirror_mode": {
    "name": "ipython",
    "version": 3
   },
   "file_extension": ".py",
   "mimetype": "text/x-python",
   "name": "python",
   "nbconvert_exporter": "python",
   "pygments_lexer": "ipython3",
   "version": "3.7.7"
  },
  "varInspector": {
   "cols": {
    "lenName": 16,
    "lenType": 16,
    "lenVar": 40
   },
   "kernels_config": {
    "python": {
     "delete_cmd_postfix": "",
     "delete_cmd_prefix": "del ",
     "library": "var_list.py",
     "varRefreshCmd": "print(var_dic_list())"
    },
    "r": {
     "delete_cmd_postfix": ") ",
     "delete_cmd_prefix": "rm(",
     "library": "var_list.r",
     "varRefreshCmd": "cat(var_dic_list()) "
    }
   },
   "types_to_exclude": [
    "module",
    "function",
    "builtin_function_or_method",
    "instance",
    "_Feature"
   ],
   "window_display": false
  }
 },
 "nbformat": 4,
 "nbformat_minor": 1
}
