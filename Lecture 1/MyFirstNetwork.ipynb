{
 "cells": [
  {
   "cell_type": "code",
   "execution_count": 1,
   "metadata": {},
   "outputs": [],
   "source": [
    "import networkx as nx\n",
    "import matplotlib.pyplot as plt\n",
    "import numpy as np\n",
    "#this will allow the plot to be inline in the browser\n",
    "%matplotlib inline"
   ]
  },
  {
   "cell_type": "markdown",
   "metadata": {},
   "source": [
    "### Exercise: Create the 4 node network of Lecture 1 and respond the following questions (use networkx documentation or Google the questions)"
   ]
  },
  {
   "cell_type": "code",
   "execution_count": 2,
   "metadata": {},
   "outputs": [],
   "source": [
    "g = nx.Graph()  #Graph base class for undirected graphs. See also:DiGraph for directed graphs\n",
    "g.add_edge('1','2',weight=1.0) #Nodes can be arbitrary (hashable) Python objects with optional key/value attributes.\n",
    "g.add_edge('2','3',weight=1.0) #Edges are represented as links between nodes with optional key/value attributes.                                \n",
    "g.add_edge('2','4',weight=1.0) #We create a network by adding 11 edges to the graph (g) of 4 nodes. \n",
    "g.add_edge('4','3',weight=1.0)"
   ]
  },
  {
   "cell_type": "code",
   "execution_count": 3,
   "metadata": {},
   "outputs": [
    {
     "data": {
      "image/png": "[encoded data removed]",
      "text/plain": [
       "<Figure size 432x288 with 1 Axes>"
      ]
     },
     "metadata": {},
     "output_type": "display_data"
    }
   ],
   "source": [
    "nx.draw_networkx(g) #The draw_networkx function is called (check online documentation to learn all the properties)"
   ]
  },
  {
   "cell_type": "markdown",
   "metadata": {},
   "source": [
    "#### 1) Print Nodes"
   ]
  },
  {
   "cell_type": "code",
   "execution_count": 4,
   "metadata": {},
   "outputs": [
    {
     "name": "stdout",
     "output_type": "stream",
     "text": [
      "Nodes:  ['1', '2', '3', '4']\n"
     ]
    }
   ],
   "source": [
    "print (\"Nodes: \" , g.nodes())"
   ]
  },
  {
   "cell_type": "markdown",
   "metadata": {},
   "source": [
    "#### 2) Print Edges"
   ]
  },
  {
   "cell_type": "code",
   "execution_count": 5,
   "metadata": {},
   "outputs": [
    {
     "name": "stdout",
     "output_type": "stream",
     "text": [
      "Edges:  [('1', '2'), ('2', '3'), ('2', '4'), ('3', '4')]\n"
     ]
    }
   ],
   "source": [
    "print (\"Edges: \" , g.edges())"
   ]
  },
  {
   "cell_type": "markdown",
   "metadata": {},
   "source": [
    "#### 3) Print number of nodes"
   ]
  },
  {
   "cell_type": "code",
   "execution_count": 6,
   "metadata": {},
   "outputs": [
    {
     "name": "stdout",
     "output_type": "stream",
     "text": [
      "Number of nodes: 4\n"
     ]
    }
   ],
   "source": [
    "print (\"Number of nodes:\" , g.number_of_nodes())"
   ]
  },
  {
   "cell_type": "markdown",
   "metadata": {},
   "source": [
    "#### 4) Print number of Edges"
   ]
  },
  {
   "cell_type": "code",
   "execution_count": 7,
   "metadata": {},
   "outputs": [
    {
     "name": "stdout",
     "output_type": "stream",
     "text": [
      "Number of edges: 4\n"
     ]
    }
   ],
   "source": [
    "print (\"Number of edges:\" , g.number_of_edges())"
   ]
  },
  {
   "cell_type": "markdown",
   "metadata": {},
   "source": [
    "#### 5) Iterate through nodes and print neighbors"
   ]
  },
  {
   "cell_type": "code",
   "execution_count": 8,
   "metadata": {},
   "outputs": [
    {
     "name": "stdout",
     "output_type": "stream",
     "text": [
      "Neighbors of  1  are :  ['2']\n",
      "Neighbors of  2  are :  ['1', '3', '4']\n",
      "Neighbors of  3  are :  ['2', '4']\n",
      "Neighbors of  4  are :  ['2', '3']\n"
     ]
    }
   ],
   "source": [
    "for node in g.nodes():\n",
    "    print (\"Neighbors of \", node, \" are : \", list(g.neighbors(node)))"
   ]
  },
  {
   "cell_type": "code",
   "execution_count": 9,
   "metadata": {},
   "outputs": [],
   "source": [
    "#### 6) Iterate through nodes and print degree"
   ]
  },
  {
   "cell_type": "markdown",
   "metadata": {},
   "source": [
    "#### Repeat the exercise 1)-6) using DiGraph instead of Graph"
   ]
  },
  {
   "cell_type": "code",
   "execution_count": 10,
   "metadata": {},
   "outputs": [
    {
     "name": "stdout",
     "output_type": "stream",
     "text": [
      "Degree of  1  are :  1\n",
      "Degree of  2  are :  3\n",
      "Degree of  3  are :  2\n",
      "Degree of  4  are :  2\n"
     ]
    }
   ],
   "source": [
    "for node in g.nodes():\n",
    "    print (\"Degree of \", node, \" are : \", len(list(g.neighbors(node))))"
   ]
  },
  {
   "cell_type": "code",
   "execution_count": 11,
   "metadata": {},
   "outputs": [],
   "source": [
    "gd = nx.DiGraph()  #Graph base class for undirected graphs. See also:DiGraph for directed graphs\n",
    "gd.add_edge('1','2',weight=1.0) #Nodes can be arbitrary (hashable) Python objects with optional key/value attributes.\n",
    "gd.add_edge('2','3',weight=1.0) #Edges are represented as links between nodes with optional key/value attributes.                                \n",
    "gd.add_edge('2','4',weight=1.0) #We create a network by adding 11 edges to the graph (g) of 4 nodes. \n",
    "gd.add_edge('4','3',weight=1.0)"
   ]
  },
  {
   "cell_type": "code",
   "execution_count": 12,
   "metadata": {},
   "outputs": [
    {
     "data": {
      "image/png": "[encoded data removed]",
      "text/plain": [
       "<Figure size 432x288 with 1 Axes>"
      ]
     },
     "metadata": {},
     "output_type": "display_data"
    }
   ],
   "source": [
    "nx.draw_networkx(gd)"
   ]
  },
  {
   "cell_type": "code",
   "execution_count": 13,
   "metadata": {},
   "outputs": [
    {
     "name": "stdout",
     "output_type": "stream",
     "text": [
      "Nodes:  ['1', '2', '3', '4']\n"
     ]
    }
   ],
   "source": [
    "print (\"Nodes: \" , gd.nodes())"
   ]
  },
  {
   "cell_type": "code",
   "execution_count": 14,
   "metadata": {},
   "outputs": [
    {
     "name": "stdout",
     "output_type": "stream",
     "text": [
      "Edges:  [('1', '2'), ('2', '3'), ('2', '4'), ('4', '3')]\n"
     ]
    }
   ],
   "source": [
    "print (\"Edges: \" , gd.edges())"
   ]
  },
  {
   "cell_type": "code",
   "execution_count": 15,
   "metadata": {},
   "outputs": [
    {
     "name": "stdout",
     "output_type": "stream",
     "text": [
      "#Nodes:  4\n"
     ]
    }
   ],
   "source": [
    "print (\"#Nodes: \" , gd.number_of_nodes())"
   ]
  },
  {
   "cell_type": "code",
   "execution_count": 16,
   "metadata": {},
   "outputs": [
    {
     "name": "stdout",
     "output_type": "stream",
     "text": [
      "#Edges:  4\n"
     ]
    }
   ],
   "source": [
    "print (\"#Edges: \" , gd.number_of_edges())"
   ]
  },
  {
   "cell_type": "code",
   "execution_count": 17,
   "metadata": {},
   "outputs": [
    {
     "name": "stdout",
     "output_type": "stream",
     "text": [
      "Neighbors of  1  are :  ['2']\n",
      "Neighbors of  2  are :  ['3', '4']\n",
      "Neighbors of  3  are :  []\n",
      "Neighbors of  4  are :  ['3']\n"
     ]
    }
   ],
   "source": [
    "for node in gd.nodes():\n",
    "    print (\"Neighbors of \", node, \" are : \", list(gd.neighbors(node)))"
   ]
  },
  {
   "cell_type": "code",
   "execution_count": 30,
   "metadata": {},
   "outputs": [
    {
     "name": "stdout",
     "output_type": "stream",
     "text": [
      "Weight of edge [ 1 ][ 2 ] is  1.0\n",
      "Weight of edge [ 2 ][ 3 ] is  1.0\n",
      "Weight of edge [ 2 ][ 4 ] is  1.0\n",
      "Weight of edge [ 4 ][ 3 ] is  1.0\n"
     ]
    }
   ],
   "source": [
    "for u,v in gd.edges():\n",
    "    print (\"Weight of edge [\", u, \"][\", v,\"] is \", g[u][v]['weight'])"
   ]
  },
  {
   "cell_type": "code",
   "execution_count": 68,
   "metadata": {},
   "outputs": [
    {
     "name": "stdout",
     "output_type": "stream",
     "text": [
      "Average degree of  directed graph =  2.0 , or:  2.0\n"
     ]
    }
   ],
   "source": [
    "print (\"Average degree of  directed graph = \", np.mean(list(dict(g.degree()).values())), \", or: \", 2.0*g.number_of_edges()/g.number_of_nodes())"
   ]
  },
  {
   "cell_type": "code",
   "execution_count": 69,
   "metadata": {},
   "outputs": [
    {
     "data": {
      "text/plain": [
       "2.0"
      ]
     },
     "execution_count": 69,
     "metadata": {},
     "output_type": "execute_result"
    }
   ],
   "source": [
    "np.mean(list(dict(gd.degree()).values()))"
   ]
  },
  {
   "cell_type": "code",
   "execution_count": 70,
   "metadata": {},
   "outputs": [
    {
     "name": "stdout",
     "output_type": "stream",
     "text": [
      "Average out degree of  directed graph =  1.0 , or:  1.0\n"
     ]
    }
   ],
   "source": [
    "print (\"Average out degree of  directed graph = \",np.mean(list(dict(gd.out_degree()).values())),\", or: \",gd.number_of_edges()/gd.number_of_nodes())"
   ]
  },
  {
   "cell_type": "code",
   "execution_count": null,
   "metadata": {},
   "outputs": [],
   "source": []
  }
 ],
 "metadata": {
  "anaconda-cloud": {},
  "kernelspec": {
   "display_name": "Python 3",
   "language": "python",
   "name": "python3"
  },
  "language_info": {
   "codemirror_mode": {
    "name": "ipython",
    "version": 3
   },
   "file_extension": ".py",
   "mimetype": "text/x-python",
   "name": "python",
   "nbconvert_exporter": "python",
   "pygments_lexer": "ipython3",
   "version": "3.6.2"
  }
 },
 "nbformat": 4,
 "nbformat_minor": 1
}
